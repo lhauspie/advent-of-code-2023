{
 "cells": [
  {
   "cell_type": "code",
   "execution_count": 1,
   "id": "6fd50780-6963-45e3-8e19-ca3a19fb36cd",
   "metadata": {},
   "outputs": [
    {
     "name": "stdout",
     "output_type": "stream",
     "text": [
      "Requirement already satisfied: advent-of-code-data in /opt/conda/lib/python3.11/site-packages (2.0.1)\n",
      "Requirement already satisfied: beautifulsoup4 in /opt/conda/lib/python3.11/site-packages (from advent-of-code-data) (4.12.2)\n",
      "Requirement already satisfied: pebble in /opt/conda/lib/python3.11/site-packages (from advent-of-code-data) (5.0.4)\n",
      "Requirement already satisfied: urllib3 in /opt/conda/lib/python3.11/site-packages (from advent-of-code-data) (2.0.7)\n",
      "Requirement already satisfied: aocd-example-parser>=2023.2 in /opt/conda/lib/python3.11/site-packages (from advent-of-code-data) (2023.2)\n",
      "Requirement already satisfied: soupsieve>1.2 in /opt/conda/lib/python3.11/site-packages (from beautifulsoup4->advent-of-code-data) (2.5)\n",
      "Note: you may need to restart the kernel to use updated packages.\n"
     ]
    }
   ],
   "source": [
    "pip install advent-of-code-data"
   ]
  }
 ],
 "metadata": {
  "kernelspec": {
   "display_name": "Python 3 (ipykernel)",
   "language": "python",
   "name": "python3"
  },
  "language_info": {
   "codemirror_mode": {
    "name": "ipython",
    "version": 3
   },
   "file_extension": ".py",
   "mimetype": "text/x-python",
   "name": "python",
   "nbconvert_exporter": "python",
   "pygments_lexer": "ipython3",
   "version": "3.11.6"
  }
 },
 "nbformat": 4,
 "nbformat_minor": 5
}
