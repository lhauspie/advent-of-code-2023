{
 "cells": [
  {
   "cell_type": "code",
   "execution_count": 1,
   "id": "8354c9c6-b8d6-4f79-810d-ef50700ddea3",
   "metadata": {},
   "outputs": [],
   "source": [
    "from aocd import get_data\n",
    "from aocd import submit\n",
    "import unittest\n",
    "\n",
    "day = 10\n",
    "year = 2023\n",
    "\n",
    "def submit_part_a(answer):\n",
    "    submit(answer, part=\"a\", day=day, year=year)\n",
    "\n",
    "def submit_part_b(answer):\n",
    "    submit(answer, part=\"b\", day=day, year=year)\n",
    "\n",
    "input = get_data(day=day, year=year)\n"
   ]
  },
  {
   "cell_type": "code",
   "execution_count": 2,
   "id": "1e767458-7f35-40a7-bbdb-eb1d6d78f4c9",
   "metadata": {},
   "outputs": [],
   "source": [
    "north = (0, -1) # (0, -1) means (x, y-1) means north\n",
    "south = (0, 1)  # (0, 1)  means (x, y+1) means south\n",
    "west  = (-1, 0) # (-1, 0) means (x-1, y) means west\n",
    "east  = (1, 0)  # (1, 0)  means (x+1, y) means east\n",
    "\n",
    "north_pipes = ['|', 'F', '7']\n",
    "south_pipes = ['|', 'L', 'J']\n",
    "west_pipes  = ['-', 'L', 'F']\n",
    "east_pipes  = ['-', 'J', '7']\n",
    "\n",
    "# 'current_pipe' : {\n",
    "#     direction : [\n",
    "#         'first_possible_pipe_to_make_connection',\n",
    "#         'second_possible_pipe_to_make_connection',\n",
    "#         'thirs_possible_pipe_to_make_connection'\n",
    "#     ]\n",
    "# }\n",
    "pipes_connections = {\n",
    "    '-' : {west:  west_pipes   , east : east_pipes},\n",
    "    '|' : {north: north_pipes  , south : south_pipes},\n",
    "    'F' : {east : east_pipes   , south: south_pipes},\n",
    "    'L' : {north: north_pipes  , east : east_pipes},\n",
    "    'J' : {north: north_pipes  , west: west_pipes},\n",
    "    '7' : {west:  west_pipes   , south: south_pipes}\n",
    "}"
   ]
  },
  {
   "cell_type": "code",
   "execution_count": 3,
   "id": "ea34cfde-7733-4d3a-b915-954cb11e35e5",
   "metadata": {},
   "outputs": [],
   "source": [
    "def sum_tuples(tuple1, tuple2):\n",
    "    return tuple(map(sum, zip(tuple1, tuple2)))"
   ]
  },
  {
   "cell_type": "code",
   "execution_count": 4,
   "id": "3a9bc674-dbb2-4101-891c-09ceee41d209",
   "metadata": {},
   "outputs": [
    {
     "name": "stdout",
     "output_type": "stream",
     "text": [
      "start position is (x, y) = (8, 42)\n",
      "start pipe is = F\n"
     ]
    }
   ],
   "source": [
    "pipes = [[c for c in list(line)] for line in input.split('\\n')]\n",
    "\n",
    "# find start_position\n",
    "start_position = (0,0)\n",
    "for y in range(len(pipes)):\n",
    "    for x in range(len(pipes[y])):\n",
    "        if pipes[y][x] == 'S':\n",
    "            start_position = (x, y)\n",
    "\n",
    "# find pipe of start_position\n",
    "up = sum_tuples(start_position, north)\n",
    "down = sum_tuples(start_position, south)\n",
    "left = sum_tuples(start_position, west)\n",
    "right = sum_tuples(start_position, east)\n",
    "\n",
    "possible_start_pipes = []\n",
    "if pipes[up[1]][up[0]] in north_pipes:\n",
    "    # possible match for connecting start_pipe to north\n",
    "    # so possible list of possible start pipes is south_pipes\n",
    "    possible_start_pipes += south_pipes\n",
    "if pipes[down[1]][down[0]] in south_pipes:\n",
    "    # possible match for connecting start_pipe to south\n",
    "    # so possible list of possible start pipes is north_pipes\n",
    "    possible_start_pipes += north_pipes\n",
    "if pipes[left[1]][left[0]] in east_pipes:\n",
    "    # possible match for connecting start_pipe to east\n",
    "    # so possible list of possible start pipes is west_pipes\n",
    "    possible_start_pipes += west_pipes\n",
    "if pipes[right[1]][right[0]] in west_pipes:\n",
    "    # possible match for connecting start_pipe to west\n",
    "    # so possible list of possible start pipes is east_pipes\n",
    "    possible_start_pipes += east_pipes\n",
    "\n",
    "# The start_pipe is the one we found twice in possible_start_pipes\n",
    "start_pipe = [pipe for pipe in set(possible_start_pipes) if possible_start_pipes.count(pipe) == 2][0]\n",
    "pipes[start_position[1]][start_position[0]] = start_pipe\n",
    "\n",
    "print(f\"start position is (x, y) = {start_position}\")\n",
    "print(f\"start pipe is = {start_pipe}\")"
   ]
  },
  {
   "cell_type": "code",
   "execution_count": 5,
   "id": "9fbfb46d-50d1-4a3f-ac65-7b4358bbaa6b",
   "metadata": {},
   "outputs": [
    {
     "name": "stdout",
     "output_type": "stream",
     "text": [
      "80\n"
     ]
    }
   ],
   "source": [
    "def next_position_for(pipes, from_position, visited_positions):\n",
    "    pipe = pipes[from_position[1]][from_position[0]]\n",
    "    for direction, connected_pipes in pipes_connections[pipe].items():\n",
    "        next_position = sum_tuples(from_position, direction)\n",
    "        if next_position not in visited_positions and pipes[next_position[1]][next_position[0]] in connected_pipes:\n",
    "            return next_position\n",
    "\n",
    "def explore_pipes(pipes, from_position):\n",
    "    # as we're riding the pipes in two different ways at once\n",
    "    current_position_1 = from_position\n",
    "    current_position_2 = from_position\n",
    "    visited_positions =[]\n",
    "    visited_positions.append(from_position)\n",
    "    while current_position_1 is not None and current_position_2 is not None :\n",
    "        # find the path to follow from current_position_1\n",
    "        current_position_1 = next_position_for(pipes, current_position_1, visited_positions)\n",
    "        visited_positions.append(current_position_1)\n",
    "        \n",
    "        # find the path to follow from current_position_2\n",
    "        current_position_2 = next_position_for(pipes, current_position_2, visited_positions)\n",
    "        visited_positions.append(current_position_2)\n",
    "    visited_positions.remove(None)\n",
    "    \n",
    "    return visited_positions\n",
    "\n",
    "example_pipes = [\n",
    "    ['F', 'F', '7', 'F', '7', 'F', '7', 'F', '7', 'F', '7', 'F', '7', 'F', '7', 'F', '-', '-', '-', '7'],\n",
    "    ['L', '|', 'L', 'J', '|', '|', '|', '|', '|', '|', '|', '|', '|', '|', '|', '|', 'F', '-', '-', 'J'],\n",
    "    ['F', 'L', '-', '7', 'L', 'J', 'L', 'J', '|', '|', '|', '|', '|', '|', 'L', 'J', 'L', '-', '7', '7'],\n",
    "    ['F', '-', '-', 'J', 'F', '-', '-', '7', '|', '|', 'L', 'J', 'L', 'J', '7', 'F', '7', 'F', 'J', '-'],\n",
    "    ['L', '-', '-', '-', 'J', 'F', '-', 'J', 'L', 'J', '.', '|', '|', '-', 'F', 'J', 'L', 'J', 'J', '7'],\n",
    "    ['|', 'F', '|', 'F', '-', 'J', 'F', '-', '-', '-', '7', 'F', '7', '-', 'L', '7', 'L', '|', '7', '|'],\n",
    "    ['|', 'F', 'F', 'J', 'F', '7', 'L', '7', 'F', '-', 'J', 'F', '7', '|', 'J', 'L', '-', '-', '-', '7'],\n",
    "    ['7', '-', 'L', '-', 'J', 'L', '7', '|', '|', 'F', '7', '|', 'L', '7', 'F', '-', '7', 'F', '7', '|'],\n",
    "    ['L', '.', 'L', '7', 'L', 'F', 'J', '|', '|', '|', '|', '|', 'F', 'J', 'L', '7', '|', '|', 'L', 'J'],\n",
    "    ['L', '7', 'J', 'L', 'J', 'L', '-', 'J', 'L', 'J', 'L', 'J', 'L', '-', '-', 'J', 'L', 'J', '.', 'L']\n",
    "]\n",
    "\n",
    "example_visited_positions = explore_pipes(example_pipes, (4, 0))\n",
    "print(int((len(example_visited_positions)) / 2))"
   ]
  },
  {
   "cell_type": "code",
   "execution_count": 6,
   "id": "989a5789-ce14-44eb-9eec-ec0587dbbc7a",
   "metadata": {},
   "outputs": [
    {
     "name": "stdout",
     "output_type": "stream",
     "text": [
      "6838\n",
      "CPU times: user 2.28 s, sys: 5.99 ms, total: 2.29 s\n",
      "Wall time: 2.29 s\n"
     ]
    }
   ],
   "source": [
    "%%time\n",
    "visited_positions = explore_pipes(pipes, start_position)\n",
    "first_answer = int((len(visited_positions)) / 2)\n",
    "print(first_answer)"
   ]
  },
  {
   "cell_type": "code",
   "execution_count": 7,
   "id": "9bfe8a22-015d-4801-bcb1-6de857d31526",
   "metadata": {},
   "outputs": [
    {
     "name": "stdout",
     "output_type": "stream",
     "text": [
      "aocd will not submit that answer again. At 2023-12-10 04:56:50.532349-05:00 you've previously submitted 6838 and the server responded with:\n",
      "\u001b[32mThat's the right answer!  You are one gold star closer to restoring snow operations. [Continue to Part Two]\u001b[0m\n"
     ]
    }
   ],
   "source": [
    "submit_part_a(first_answer)"
   ]
  },
  {
   "cell_type": "code",
   "execution_count": 8,
   "id": "dfb5d982-7de2-4f6d-b2a6-2011a1e15e56",
   "metadata": {},
   "outputs": [
    {
     "name": "stdout",
     "output_type": "stream",
     "text": [
      ".F7F7F7F7F7F7F7F---7\n",
      ".|LJ||||||||||||F--J\n",
      ".L-7LJLJ||||||LJL-7.\n",
      "F--JF--7||LJLJ.F7FJ.\n",
      "L---JF-JLJ....FJLJ..\n",
      "...F-JF---7...L7....\n",
      "..FJF7L7F-JF7..L---7\n",
      "..L-JL7||F7|L7F-7F7|\n",
      ".....FJ|||||FJL7||LJ\n",
      ".....L-JLJLJL--JLJ..\n"
     ]
    }
   ],
   "source": [
    "# cleanup the pipes to remove all pipes that are not part of the loop\n",
    "def cleanup(pipes, visited_positions):\n",
    "    for y in range(len(pipes)):\n",
    "        for x in range(len(pipes[y])):\n",
    "            if (x, y) not in visited_positions:\n",
    "                pipes[y][x] = '.'\n",
    "\n",
    "cleanup(example_pipes, example_visited_positions)\n",
    "for line in example_pipes:\n",
    "    print(''.join(line))"
   ]
  },
  {
   "cell_type": "code",
   "execution_count": 9,
   "id": "da5ec106-8542-4efc-bf4a-3aea14ad4dde",
   "metadata": {},
   "outputs": [
    {
     "name": "stdout",
     "output_type": "stream",
     "text": [
      "..........................................\n",
      "...F-7.F-7.F-7.F-7.F-7.F-7.F-7.F-------7..\n",
      "...|.|.|.|.|.|.|.|.|.|.|.|.|.|.|.......|..\n",
      "...|.L-J.|.|.|.|.|.|.|.|.|.|.|.|.F-----J..\n",
      "...|.....|.|.|.|.|.|.|.|.|.|.|.|.|........\n",
      "...L---7.L-J.L-J.|.|.|.|.|.|.L-J.L---7....\n",
      ".......|.........|.|.|.|.|.|.........|....\n",
      ".F-----J.F-----7.|.|.L-J.L-J...F-7.F-J....\n",
      ".|.......|.....|.|.|...........|.|.|......\n",
      ".L-------J.F---J.L-J.........F-J.L-J......\n",
      "...........|.................|............\n",
      ".......F---J.F-------7.......L-7..........\n",
      ".......|.....|.......|.........|..........\n",
      ".....F-J.F-7.L-7.F---J.F-7.....L-------7..\n",
      ".....|...|.|...|.|.....|.|.............|..\n",
      ".....L---J.L-7.|.|.F-7.|.L-7.F---7.F-7.|..\n",
      ".............|.|.|.|.|.|...|.|...|.|.|.|..\n",
      "...........F-J.|.|.|.|.|.F-J.L-7.|.|.L-J..\n",
      "...........|...|.|.|.|.|.|.....|.|.|......\n",
      "...........L---J.L-J.L-J.L-----J.L-J......\n",
      "..........................................\n"
     ]
    }
   ],
   "source": [
    "def are_pipes_connected(pipe1, direction, pipe2):\n",
    "    if pipe1 == '.' or direction not in pipes_connections[pipe1].keys():\n",
    "        return False\n",
    "    return pipe2 in pipes_connections[pipe1][direction]\n",
    "\n",
    "def extends_pipes(pipes):\n",
    "    nb_lines = len(pipes)\n",
    "    nb_cols = len(pipes[0])\n",
    "    \n",
    "    # extends the pipes to allow water to go between pipes\n",
    "    # Add one line of point at the begining (first line)\n",
    "    extended_pipes = [['.'] * (nb_cols + 1) * 2]\n",
    "    for y in range(len(pipes)):\n",
    "        # Add one point at the begining\n",
    "        original_line_extended = ['.']\n",
    "        additional_line_extended = ['.']\n",
    "    \n",
    "        for x in range(nb_cols):\n",
    "            current_pipe = pipes[y][x]\n",
    "            original_line_extended.append(current_pipe)\n",
    "            \n",
    "            if y+1 < nb_lines and are_pipes_connected(current_pipe, south, pipes[y+1][x]):\n",
    "                additional_line_extended.append(\"|\")\n",
    "            else:\n",
    "                additional_line_extended.append('.')\n",
    "            \n",
    "            if x+1 < nb_cols and are_pipes_connected(current_pipe, east, pipes[y][x+1]):\n",
    "                original_line_extended.append('-')\n",
    "                additional_line_extended.append('.')\n",
    "            else:\n",
    "                original_line_extended.append('.')\n",
    "                additional_line_extended.append('.')\n",
    "        \n",
    "        # Add one point at the end\n",
    "        original_line_extended.append('.')\n",
    "        additional_line_extended.append('.')\n",
    "                    \n",
    "        extended_pipes.append(original_line_extended)\n",
    "        extended_pipes.append(additional_line_extended)\n",
    "    return extended_pipes \n",
    "\n",
    "extended_example_pipes = extends_pipes(example_pipes)\n",
    "for line in extended_example_pipes:\n",
    "    print(''.join(line))"
   ]
  },
  {
   "cell_type": "code",
   "execution_count": 10,
   "id": "5fd4c74c-a9bb-41d6-bb55-5c2349b100fa",
   "metadata": {},
   "outputs": [
    {
     "name": "stdout",
     "output_type": "stream",
     "text": [
      "                                          \n",
      "   F-7 F-7 F-7 F-7 F-7 F-7 F-7 F-------7  \n",
      "   |.| |.| |.| |.| |.| |.| |.| |.......|  \n",
      "   |.L-J.| |.| |.| |.| |.| |.| |.F-----J  \n",
      "   |.....| |.| |.| |.| |.| |.| |.|        \n",
      "   L---7.L-J.L-J.| |.| |.| |.L-J.L---7    \n",
      "       |.........| |.| |.| |.........|    \n",
      " F-----J.F-----7.| |.L-J.L-J...F-7.F-J    \n",
      " |.......|     |.| |...........| |.|      \n",
      " L-------J F---J.L-J.........F-J L-J      \n",
      "           |.................|            \n",
      "       F---J.F-------7.......L-7          \n",
      "       |.....|       |.........|          \n",
      "     F-J.F-7.L-7 F---J.F-7.....L-------7  \n",
      "     |...| |...| |.....| |.............|  \n",
      "     L---J L-7.| |.F-7.| L-7.F---7.F-7.|  \n",
      "             |.| |.| |.|   |.|   |.| |.|  \n",
      "           F-J.| |.| |.| F-J.L-7 |.| L-J  \n",
      "           |...| |.| |.| |.....| |.|      \n",
      "           L---J L-J L-J L-----J L-J      \n",
      "                                          \n"
     ]
    }
   ],
   "source": [
    "def get_positions_to_flood(pipes, current_position):\n",
    "    x, y = current_position\n",
    "    next_positions_to_flood = []\n",
    "    nb_lines = len(pipes)\n",
    "    nb_cols = len(pipes[0])\n",
    "    if y   > 0         and   pipes[y-1][x] == '.':\n",
    "        next_positions_to_flood.append((x, y-1))\n",
    "    if y+1 < nb_lines  and   pipes[y+1][x] == '.':\n",
    "        next_positions_to_flood.append((x, y+1))\n",
    "    if x > 0           and   pipes[y][x-1] == '.':\n",
    "        next_positions_to_flood.append((x-1, y))\n",
    "    if x+1 < nb_cols   and   pipes[y][x+1] == '.':\n",
    "        next_positions_to_flood.append((x+1, y))\n",
    "    return next_positions_to_flood\n",
    "\n",
    "def fulfil_with_water(pipes):\n",
    "    # start to flood from four corners to center\n",
    "    positions_to_flood = [\n",
    "        (0, 0),\n",
    "        (0, len(pipes)-1),\n",
    "        (len(pipes[0])-1, len(pipes)-1),\n",
    "        (len(pipes[0])-1, 0)\n",
    "    ]\n",
    "    # while there is position to flood\n",
    "    while positions_to_flood:\n",
    "        new_positions_to_flood = []\n",
    "        for x, y in positions_to_flood:\n",
    "#            print(x, y)\n",
    "            pipes[y][x] = ' '\n",
    "            new_positions_to_flood += get_positions_to_flood(pipes, (x, y))\n",
    "        positions_to_flood.clear()\n",
    "        positions_to_flood += set(new_positions_to_flood)\n",
    "\n",
    "fulfil_with_water(extended_example_pipes)\n",
    "for l in extended_example_pipes:\n",
    "    print(''.join(l))"
   ]
  },
  {
   "cell_type": "code",
   "execution_count": 11,
   "id": "0da7ed51-e68f-4760-8ccd-6f9932ec42c9",
   "metadata": {},
   "outputs": [
    {
     "name": "stdout",
     "output_type": "stream",
     "text": [
      " F7F7F7F7F7F7F7F---7 \n",
      " |LJ||||||||||||F--J \n",
      " L-7LJLJ||||||LJL-7  \n",
      "F--JF--7||LJLJ.F7FJ  \n",
      "L---JF-JLJ....FJLJ   \n",
      "   F-JF---7...L7     \n",
      "  FJF7L7F-JF7..L---7 \n",
      "  L-JL7||F7|L7F-7F7| \n",
      "     FJ|||||FJL7||LJ \n",
      "     L-JLJLJL--JLJ   \n"
     ]
    }
   ],
   "source": [
    "def reduces_pipes(pipes):\n",
    "    nb_lines = len(pipes)\n",
    "    nb_cols = len(pipes[0])\n",
    "\n",
    "    reduced_pipes = []\n",
    "    # reduces the pipes to cancel the extending process water to go between pipes\n",
    "    # As reminder, I added one line at begining and one line at end\n",
    "    #              I also added one col and one line between each lines and cols\n",
    "    for y in range(1, nb_lines, 2):\n",
    "        reduced_line = []\n",
    "        for x in range(1, nb_cols, 2):\n",
    "            reduced_line.append(pipes[y][x])\n",
    "        reduced_pipes.append(reduced_line)\n",
    "        \n",
    "    return reduced_pipes\n",
    "\n",
    "reduced_example_pipes = reduces_pipes(extended_example_pipes)\n",
    "for line in reduced_example_pipes:\n",
    "    print(''.join(line))"
   ]
  },
  {
   "cell_type": "code",
   "execution_count": 12,
   "id": "7c0417c8-afed-4e48-a79b-0b6d841e87c0",
   "metadata": {},
   "outputs": [
    {
     "name": "stdout",
     "output_type": "stream",
     "text": [
      "10\n"
     ]
    }
   ],
   "source": [
    "def count_nb_points(pipes):\n",
    "    nb_points = 0\n",
    "    for y in range(len(pipes)):\n",
    "        nb_points += pipes[y].count('.')\n",
    "    return nb_points\n",
    "\n",
    "print(count_nb_points(reduced_example_pipes))"
   ]
  },
  {
   "cell_type": "code",
   "execution_count": 13,
   "id": "752c78e8-cac1-40e2-b00a-1e601f3101d0",
   "metadata": {},
   "outputs": [
    {
     "name": "stdout",
     "output_type": "stream",
     "text": [
      "451\n",
      "CPU times: user 2.89 s, sys: 8.39 ms, total: 2.9 s\n",
      "Wall time: 2.9 s\n"
     ]
    }
   ],
   "source": [
    "%%time\n",
    "cleanup(pipes, visited_positions)\n",
    "extended_pipes = extends_pipes(pipes)\n",
    "fulfil_with_water(extended_pipes)\n",
    "reduced_pipes = reduces_pipes(extended_pipes)\n",
    "second_answer = count_nb_points(reduced_pipes)\n",
    "print(second_answer)"
   ]
  },
  {
   "cell_type": "code",
   "execution_count": 14,
   "id": "082e4442-14a3-402f-8e77-4849b270ede0",
   "metadata": {},
   "outputs": [
    {
     "name": "stdout",
     "output_type": "stream",
     "text": [
      "aocd will not submit that answer again. At 2023-12-10 12:28:51.050376-05:00 you've previously submitted 451 and the server responded with:\n",
      "\u001b[32mThat's the right answer!  You are one gold star closer to restoring snow operations.You have completed Day 10! You can [Shareon\n",
      "  Twitter\n",
      "Mastodon] this victory or [Return to Your Advent Calendar].\u001b[0m\n"
     ]
    }
   ],
   "source": [
    "submit_part_b(second_answer)"
   ]
  },
  {
   "cell_type": "markdown",
   "id": "2fc12fbf-1f48-4ff2-b912-7543ad5263b0",
   "metadata": {},
   "source": [
    "# Post-Mortem\n",
    "It was possible to use the ray-casting algorithm that consists in counting the number of pipes between a point an a border.\n",
    "If the number of pipes is pair then the point is outside the main loop.\n",
    "If the number of pipes is unpair then the point is inside the main loop.\n",
    "\n",
    "It's like looking if parenthesis are well formed (we have exactly the same number of '(' than ')').\n",
    "\n",
    "The particularity in this case is that:\n",
    "- if we encounter `L---J` or `F---7` we have to consider there is no pipe\n",
    "- if we encounter `F---J` or `L---7` we have to consider there is one pipe no mater the unmber of '-' that is between \"angles\" (`L`, `J`, `7`, `F`)\n",
    "\n",
    "\n",
    "More information here: https://en.wikipedia.org/wiki/Point_in_polygon\n"
   ]
  }
 ],
 "metadata": {
  "kernelspec": {
   "display_name": "Python 3 (ipykernel)",
   "language": "python",
   "name": "python3"
  },
  "language_info": {
   "codemirror_mode": {
    "name": "ipython",
    "version": 3
   },
   "file_extension": ".py",
   "mimetype": "text/x-python",
   "name": "python",
   "nbconvert_exporter": "python",
   "pygments_lexer": "ipython3",
   "version": "3.11.6"
  }
 },
 "nbformat": 4,
 "nbformat_minor": 5
}
