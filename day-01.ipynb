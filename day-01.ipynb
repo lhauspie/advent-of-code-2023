{
 "cells": [
  {
   "cell_type": "code",
   "execution_count": 1,
   "id": "d0452a2e-8ed6-4e84-85df-51d9b4bb6ded",
   "metadata": {},
   "outputs": [],
   "source": [
    "from aocd import get_data\n",
    "input = get_data(day=1, year=2023)"
   ]
  },
  {
   "cell_type": "code",
   "execution_count": 2,
   "id": "b7a0eee0-f899-407c-b0a3-c45b4480a3de",
   "metadata": {},
   "outputs": [],
   "source": [
    "def calculate_calibration_sum(calibration_document, first_digit_selector, last_digit_selector):\n",
    "    calibration_sum = 0\n",
    "\n",
    "    for line in calibration_document:\n",
    "        calibration_sum += first_digit_selector(line) * 10 + last_digit_selector(line)\n",
    "\n",
    "    return calibration_sum"
   ]
  },
  {
   "cell_type": "code",
   "execution_count": 3,
   "id": "8f486de4-7139-41ad-b53f-abfb11317ce1",
   "metadata": {},
   "outputs": [],
   "source": [
    "def find_first_digit_part_a(line):\n",
    "    first_digit = None\n",
    "    for char in line:\n",
    "        if char.isdigit():\n",
    "            first_digit = int(char)\n",
    "            break\n",
    "\n",
    "    return first_digit\n",
    "\n",
    "\n",
    "def find_last_digit_part_a(line):\n",
    "    last_digit = None\n",
    "    for char in reversed(line):\n",
    "        if char.isdigit():\n",
    "            last_digit = int(char)\n",
    "            break\n",
    "\n",
    "    return last_digit"
   ]
  },
  {
   "cell_type": "code",
   "execution_count": 4,
   "id": "d3013062-5db5-4cc5-9cca-d8ad4e36fff9",
   "metadata": {},
   "outputs": [
    {
     "name": "stdout",
     "output_type": "stream",
     "text": [
      "56465\n"
     ]
    }
   ],
   "source": [
    "lines = input.split('\\n')\n",
    "first_answer = calculate_calibration_sum(lines, find_first_digit_part_a, find_last_digit_part_a)\n",
    "print(first_answer)"
   ]
  },
  {
   "cell_type": "code",
   "execution_count": 5,
   "id": "edbd24a0-8626-4427-a168-c267728cd7b9",
   "metadata": {},
   "outputs": [
    {
     "name": "stdout",
     "output_type": "stream",
     "text": [
      "aocd will not submit that answer again. At 2023-12-01 08:02:33.005057-05:00 you've previously submitted 56465 and the server responded with:\n",
      "\u001b[32mThat's the right answer!  You are one gold star closer to restoring snow operations. [Continue to Part Two]\u001b[0m\n"
     ]
    }
   ],
   "source": [
    "from aocd import submit\n",
    "submit(first_answer, part=\"a\", day=1, year=2023)"
   ]
  },
  {
   "cell_type": "code",
   "execution_count": 6,
   "id": "3983de43-67ca-4a77-88c7-32db78e081da",
   "metadata": {},
   "outputs": [],
   "source": [
    "digit_in_text_to_digit = {\n",
    "    \"one\":    1,\n",
    "    \"two\":    2,\n",
    "    \"three\":  3,\n",
    "    \"four\":   4,\n",
    "    \"five\":   5,\n",
    "    \"six\":    6,\n",
    "    \"seven\":  7,\n",
    "    \"eight\": 8,\n",
    "    \"nine\":   9,\n",
    "}\n",
    "\n",
    "def find_first_digit_part_b(line):\n",
    "    first_digit = None\n",
    "    index_of_first_digit = 0\n",
    "    for char in line:\n",
    "        index_of_first_digit += 1\n",
    "        if char.isdigit():\n",
    "            first_digit = int(char)\n",
    "            break\n",
    "\n",
    "    if index_of_first_digit > 0:\n",
    "        index_of_first_digit -= 1\n",
    "\n",
    "    for digit_in_text, unused in digit_in_text_to_digit.items():\n",
    "        index_of_digit_in_text = line.find(digit_in_text)\n",
    "        if index_of_digit_in_text != -1 and index_of_digit_in_text < index_of_first_digit:\n",
    "            first_digit = digit_in_text_to_digit[digit_in_text]\n",
    "            index_of_first_digit = index_of_digit_in_text\n",
    "            \n",
    "    return first_digit\n",
    "\n",
    "\n",
    "def find_last_digit_part_b(line):\n",
    "    last_digit = None\n",
    "    index_of_last_digit = len(line) - 1\n",
    "    for char in reversed(line):\n",
    "        index_of_last_digit -= 1\n",
    "        if char.isdigit():\n",
    "            last_digit = int(char)\n",
    "            break\n",
    "\n",
    "    if index_of_last_digit < len(line):\n",
    "        index_of_last_digit += 1\n",
    "\n",
    "    for digit_in_text, unused in digit_in_text_to_digit.items():\n",
    "        index_of_digit_in_text = line.rfind(digit_in_text)\n",
    "        if index_of_digit_in_text != -1 and index_of_digit_in_text > index_of_last_digit:\n",
    "            last_digit = digit_in_text_to_digit[digit_in_text]\n",
    "            index_of_last_digit = index_of_digit_in_text\n",
    "\n",
    "    return last_digit"
   ]
  },
  {
   "cell_type": "code",
   "execution_count": 7,
   "id": "2397c472-18d3-4be9-8e45-ba7bcb2f4f64",
   "metadata": {},
   "outputs": [
    {
     "name": "stdout",
     "output_type": "stream",
     "text": [
      "55902\n"
     ]
    }
   ],
   "source": [
    "second_answer = calculate_calibration_sum(lines, find_first_digit_part_b, find_last_digit_part_b)\n",
    "print(second_answer)"
   ]
  },
  {
   "cell_type": "code",
   "execution_count": 8,
   "id": "6ddb2194-2b5d-4c3c-a976-a70867f7ead6",
   "metadata": {},
   "outputs": [
    {
     "name": "stdout",
     "output_type": "stream",
     "text": [
      "\u001b[32mThat's the right answer!  You are one gold star closer to restoring snow operations.You have completed Day 1! You can [Shareon\n",
      "  Twitter\n",
      "Mastodon] this victory or [Return to Your Advent Calendar].\u001b[0m\n"
     ]
    },
    {
     "data": {
      "text/plain": [
       "<urllib3.response.HTTPResponse at 0x7f58e52eb880>"
      ]
     },
     "execution_count": 8,
     "metadata": {},
     "output_type": "execute_result"
    }
   ],
   "source": [
    "from aocd import submit\n",
    "submit(second_answer, part=\"b\", day=1, year=2023)"
   ]
  },
  {
   "cell_type": "code",
   "execution_count": null,
   "id": "baaaf790-4c2c-4556-a7ca-54a11bf31b09",
   "metadata": {},
   "outputs": [],
   "source": []
  }
 ],
 "metadata": {
  "kernelspec": {
   "display_name": "Python 3 (ipykernel)",
   "language": "python",
   "name": "python3"
  },
  "language_info": {
   "codemirror_mode": {
    "name": "ipython",
    "version": 3
   },
   "file_extension": ".py",
   "mimetype": "text/x-python",
   "name": "python",
   "nbconvert_exporter": "python",
   "pygments_lexer": "ipython3",
   "version": "3.11.6"
  }
 },
 "nbformat": 4,
 "nbformat_minor": 5
}
