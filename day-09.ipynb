{
 "cells": [
  {
   "cell_type": "code",
   "execution_count": 1,
   "id": "b58b28c0-2090-4ebe-abb3-a6509465eaff",
   "metadata": {},
   "outputs": [],
   "source": [
    "from aocd import get_data\n",
    "from aocd import submit\n",
    "import unittest\n",
    "\n",
    "day = 9\n",
    "year = 2023\n",
    "\n",
    "def submit_part_a(answer):\n",
    "    submit(answer, part=\"a\", day=day, year=year)\n",
    "\n",
    "def submit_part_b(answer):\n",
    "    submit(answer, part=\"b\", day=day, year=year)\n",
    "\n",
    "input = get_data(day=day, year=year)"
   ]
  },
  {
   "cell_type": "code",
   "execution_count": 2,
   "id": "8f616e71-de96-4b6b-9294-2ca7e5647f5e",
   "metadata": {},
   "outputs": [],
   "source": [
    "lines = input.split(\"\\n\")\n",
    "sequences = [[int(i) for i in line.split()] for line in lines]"
   ]
  },
  {
   "cell_type": "code",
   "execution_count": 3,
   "id": "0a39a6ec-4436-4660-b761-2594f3cd404b",
   "metadata": {},
   "outputs": [],
   "source": [
    "from itertools import pairwise\n",
    "\n",
    "def next(sequence):\n",
    "    if all(v == 0 for v in sequence):\n",
    "        return 0\n",
    "    subsequence = []\n",
    "    for a, b in pairwise(sequence):\n",
    "        subsequence.append(b - a)\n",
    "    return sequence[-1] + next(subsequence)"
   ]
  },
  {
   "cell_type": "code",
   "execution_count": 4,
   "id": "792bec6a-bcad-40ac-9ee2-d9892895fc89",
   "metadata": {},
   "outputs": [
    {
     "name": "stdout",
     "output_type": "stream",
     "text": [
      "2008960228\n",
      "CPU times: user 6.05 ms, sys: 1.2 ms, total: 7.26 ms\n",
      "Wall time: 7.02 ms\n"
     ]
    }
   ],
   "source": [
    "%%time\n",
    "first_answer = sum(next(s) for s in sequences)\n",
    "print(first_answer)"
   ]
  },
  {
   "cell_type": "code",
   "execution_count": 5,
   "id": "96f6b8b1-d439-45a9-ad30-6b4534204ae2",
   "metadata": {},
   "outputs": [
    {
     "name": "stdout",
     "output_type": "stream",
     "text": [
      "aocd will not submit that answer again. At 2023-12-09 13:12:37.111047-05:00 you've previously submitted 2008960228 and the server responded with:\n",
      "\u001b[32mThat's the right answer!  You are one gold star closer to restoring snow operations. [Continue to Part Two]\u001b[0m\n"
     ]
    }
   ],
   "source": [
    "submit_part_a(first_answer)"
   ]
  },
  {
   "cell_type": "code",
   "execution_count": 6,
   "id": "fb628831-b2b7-473c-8568-d23ad278d11b",
   "metadata": {},
   "outputs": [],
   "source": [
    "def previous(sequence):\n",
    "    if all(v == 0 for v in sequence):\n",
    "        return 0\n",
    "    subsequence = []\n",
    "    for a, b in pairwise(sequence):\n",
    "        subsequence.append(b - a)\n",
    "    previous_value = sequence[0] - previous(subsequence)\n",
    "    return previous_value"
   ]
  },
  {
   "cell_type": "code",
   "execution_count": 7,
   "id": "6fd0c486-80ca-4ded-8974-a2c53aac8502",
   "metadata": {},
   "outputs": [
    {
     "name": "stdout",
     "output_type": "stream",
     "text": [
      "1097\n",
      "CPU times: user 8.53 ms, sys: 1.1 ms, total: 9.62 ms\n",
      "Wall time: 9.48 ms\n"
     ]
    }
   ],
   "source": [
    "%%time\n",
    "second_answer = sum(previous(s) for s in sequences)\n",
    "print(second_answer)"
   ]
  },
  {
   "cell_type": "code",
   "execution_count": 8,
   "id": "13f03be3-edea-49b7-a251-d8717fb98eaf",
   "metadata": {},
   "outputs": [
    {
     "name": "stdout",
     "output_type": "stream",
     "text": [
      "aocd will not submit that answer again. At 2023-12-09 13:24:40.681621-05:00 you've previously submitted 1097 and the server responded with:\n",
      "\u001b[32mThat's the right answer!  You are one gold star closer to restoring snow operations.You have completed Day 9! You can [Shareon\n",
      "  Twitter\n",
      "Mastodon] this victory or [Return to Your Advent Calendar].\u001b[0m\n"
     ]
    }
   ],
   "source": [
    "submit_part_b(second_answer)"
   ]
  }
 ],
 "metadata": {
  "kernelspec": {
   "display_name": "Python 3 (ipykernel)",
   "language": "python",
   "name": "python3"
  },
  "language_info": {
   "codemirror_mode": {
    "name": "ipython",
    "version": 3
   },
   "file_extension": ".py",
   "mimetype": "text/x-python",
   "name": "python",
   "nbconvert_exporter": "python",
   "pygments_lexer": "ipython3",
   "version": "3.11.6"
  }
 },
 "nbformat": 4,
 "nbformat_minor": 5
}
