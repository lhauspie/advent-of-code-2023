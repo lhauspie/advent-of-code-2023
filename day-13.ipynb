{
 "cells": [
  {
   "cell_type": "markdown",
   "id": "c8d01055-6760-47a2-a8d3-a1a0b89d6626",
   "metadata": {},
   "source": [
    "# Preparation"
   ]
  },
  {
   "cell_type": "code",
   "execution_count": 1,
   "id": "c3e7f5eb-cc82-4593-b008-70e85abb5278",
   "metadata": {},
   "outputs": [],
   "source": [
    "from aocd import get_data\n",
    "from aocd import submit\n",
    "import unittest\n",
    "\n",
    "day = 13\n",
    "year = 2023\n",
    "\n",
    "def submit_part_a(answer):\n",
    "    submit(answer, part=\"a\", day=day, year=year)\n",
    "\n",
    "def submit_part_b(answer):\n",
    "    submit(answer, part=\"b\", day=day, year=year)\n",
    "\n",
    "input = get_data(day=day, year=year)"
   ]
  },
  {
   "cell_type": "markdown",
   "id": "68392b4d-521f-4128-8c4b-b1fb158d496b",
   "metadata": {},
   "source": [
    "## Parsing data"
   ]
  },
  {
   "cell_type": "code",
   "execution_count": 2,
   "id": "aa73f82e-2fc4-49e4-9def-a521c4c2dc78",
   "metadata": {},
   "outputs": [],
   "source": [
    "def parse(lines):\n",
    "    current_matrix = []\n",
    "    matrices = []\n",
    "    for line in lines:\n",
    "        if line == \"\":\n",
    "            matrices.append(current_matrix)\n",
    "            current_matrix = []\n",
    "        else:\n",
    "            current_matrix.append(list(line));\n",
    "    \n",
    "    matrices.append(current_matrix)\n",
    "    return matrices\n",
    "\n",
    "matrices = parse(input.split(\"\\n\"))"
   ]
  },
  {
   "cell_type": "markdown",
   "id": "118a670e-8a30-4deb-9733-f4b1a56ed6ce",
   "metadata": {},
   "source": [
    "# Part 1"
   ]
  },
  {
   "cell_type": "code",
   "execution_count": 3,
   "id": "36a81f02-32b5-42e1-95ad-ac54fa112de3",
   "metadata": {},
   "outputs": [],
   "source": [
    "def is_a_horizontal_mirror_line(matrix: [[]], mirror_line: (int, int)):\n",
    "    first_row, second_row = mirror_line\n",
    "    if first_row <0 or second_row >= len(matrix):\n",
    "        return False\n",
    "    while first_row >=0 and second_row < len(matrix):\n",
    "#        print(f\"are {matrix[first_row]} (at row {first_row}) and {matrix[second_row]} (at row {second_row}) equals ? ==> {matrix[first_row] == matrix[second_row]}\")\n",
    "        if matrix[first_row] != matrix[second_row]:\n",
    "            return False\n",
    "        first_row -= 1\n",
    "        second_row += 1\n",
    "    return True\n",
    "\n",
    "\n",
    "def find_horizontal_mirror(matrix: [[]]) -> (int, int):\n",
    "    middle_row = int(len(matrix)/2)\n",
    "#    print(f\"middle row : {middle_row}\")\n",
    "    first_row, second_row = middle_row, middle_row\n",
    "\n",
    "    for i in range(middle_row+1):\n",
    "#        print(0)\n",
    "#        print(f\"trying to know {(first_row-1, first_row)} is a mirror line\")\n",
    "        if is_a_horizontal_mirror_line(matrix, (first_row-1, first_row)):\n",
    "#            print(\"mirror found in the first half of the matrix\")\n",
    "            return (first_row-1, first_row)\n",
    "#        print(f\"trying to know {(second_row, second_row+1)} is a mirror line\")\n",
    "        if is_a_horizontal_mirror_line(matrix, (second_row, second_row+1)):\n",
    "#            print(\"mirror found in the second half of the matrix\")\n",
    "            return (second_row, second_row+1)\n",
    "        first_row -= 1\n",
    "        second_row += 1\n",
    "\n",
    "    return None\n",
    "\n",
    "\n",
    "def find_vertical_mirror(matrix: [[]]) -> (int, int):\n",
    "    # transpose the matrix\n",
    "    transposed_matrix = list(zip(*matrix))\n",
    "    return find_horizontal_mirror(transposed_matrix)\n",
    "\n",
    "\n",
    "def find_mirror(matrix: [[]]) -> (int, int, int):\n",
    "    v_mirror = find_vertical_mirror(matrix)\n",
    "    h_mirror = find_horizontal_mirror(matrix)\n",
    "#    print(\"vvvvv\")\n",
    "#    print(f\"vertical : {v_mirror}\")\n",
    "#    print(f\"horizontal : {h_mirror}\")\n",
    "#    print(h_mirror != v_mirror)\n",
    "#    print(\"^^^^^\")\n",
    "    \n",
    "    mult = 1\n",
    "    mirror = v_mirror\n",
    "    if v_mirror is None:\n",
    "        mult = 100\n",
    "        mirror = h_mirror\n",
    "    return (mirror[0], mirror[1], mult)\n",
    "\n",
    "\n",
    "vertical_example_matrix = [\n",
    "    ['#', '.', '#', '#', '.', '.', '#', '#', '.'],\n",
    "    ['.', '.', '#', '.', '#', '#', '.', '#', '.'],\n",
    "    ['#', '#', '.', '.', '.', '.', '.', '.', '#'],\n",
    "    ['#', '#', '.', '.', '.', '.', '.', '.', '#'],\n",
    "    ['.', '.', '#', '.', '#', '#', '.', '#', '.'],\n",
    "    ['.', '.', '#', '#', '.', '.', '#', '#', '.'],\n",
    "    ['#', '.', '#', '.', '#', '#', '.', '#', '.']\n",
    "]\n",
    "\n",
    "horizontal_example_matrix = [\n",
    "    ['#', '.', '.', '.', '#', '#', '.', '.', '#'],\n",
    "    ['#', '.', '.', '.', '.', '#', '.', '.', '#'],\n",
    "    ['.', '.', '#', '#', '.', '.', '#', '#', '#'],\n",
    "    ['#', '#', '#', '#', '#', '.', '#', '#', '.'],\n",
    "    ['#', '#', '#', '#', '#', '.', '#', '#', '.'],\n",
    "    ['.', '.', '#', '#', '.', '.', '#', '#', '#'],\n",
    "    ['#', '.', '.', '.', '.', '#', '.', '.', '#']\n",
    "]\n",
    "\n",
    "assert find_vertical_mirror(horizontal_example_matrix) == None, f\"mirror found : {find_vertical_mirror(horizontal_example_matrix)}\"\n",
    "assert find_vertical_mirror(vertical_example_matrix) == (4, 5), f\"mirror found : {find_vertical_mirror(vertical_example_matrix)}\"\n",
    "\n",
    "assert find_horizontal_mirror(horizontal_example_matrix) == (3, 4), f\"mirror found : {find_horizontal_mirror(horizontal_example_matrix)}\"\n",
    "\n",
    "assert find_mirror(vertical_example_matrix) == (4, 5, 1)     , f\"mirror found : {find_mirror(vertical_example_matrix)}\"\n",
    "assert find_mirror(horizontal_example_matrix) == (3, 4, 100)      , f\"mirror found : {find_mirror(horizontal_example_matrix)}\""
   ]
  },
  {
   "cell_type": "markdown",
   "id": "a619c7bc-0690-4992-95e6-6c43186edde5",
   "metadata": {},
   "source": [
    "## Resoling the first part"
   ]
  },
  {
   "cell_type": "markdown",
   "id": "510ceba2-3882-4a64-ac91-599d9cb64459",
   "metadata": {},
   "source": [
    "### The example"
   ]
  },
  {
   "cell_type": "code",
   "execution_count": 4,
   "id": "12e9dbdb-ef78-4561-b1ff-f2c6aef93189",
   "metadata": {},
   "outputs": [
    {
     "name": "stdout",
     "output_type": "stream",
     "text": [
      "405\n"
     ]
    }
   ],
   "source": [
    "example_matrices = [vertical_example_matrix, horizontal_example_matrix]\n",
    "example_mirrors = [find_mirror(matrix) for matrix in example_matrices]\n",
    "example_answer = sum((mirror[0]+1) * mirror[2] for mirror in example_mirrors)\n",
    "print(example_answer)"
   ]
  },
  {
   "cell_type": "markdown",
   "id": "70e5e725-7db0-466e-b5f0-a98dd86e3f3a",
   "metadata": {},
   "source": [
    "### The real input"
   ]
  },
  {
   "cell_type": "code",
   "execution_count": 5,
   "id": "fb0b11fe-779c-4060-9fa7-8bef1a06ce9c",
   "metadata": {},
   "outputs": [
    {
     "name": "stdout",
     "output_type": "stream",
     "text": [
      "33735\n",
      "CPU times: user 2.04 ms, sys: 0 ns, total: 2.04 ms\n",
      "Wall time: 2.06 ms\n"
     ]
    }
   ],
   "source": [
    "%%time\n",
    "mirrors = [find_mirror(matrix) for matrix in matrices]\n",
    "first_answer = sum((mirror[0]+1) * mirror[2] for mirror in mirrors)\n",
    "print(first_answer)\n",
    "assert first_answer == 33735"
   ]
  },
  {
   "cell_type": "code",
   "execution_count": 6,
   "id": "0f6afcb0-34fb-402e-b8c0-f01b0db6fda8",
   "metadata": {},
   "outputs": [
    {
     "name": "stdout",
     "output_type": "stream",
     "text": [
      "aocd will not submit that answer again. At 2023-12-13 15:07:12.923141-05:00 you've previously submitted 33735 and the server responded with:\n",
      "\u001b[32mThat's the right answer!  You are one gold star closer to restoring snow operations. [Continue to Part Two]\u001b[0m\n"
     ]
    }
   ],
   "source": [
    "submit_part_a(first_answer)"
   ]
  },
  {
   "cell_type": "markdown",
   "id": "1c281022-f4fd-4177-beb1-581ad7b58112",
   "metadata": {},
   "source": [
    "# Part 2"
   ]
  },
  {
   "cell_type": "code",
   "execution_count": null,
   "id": "3e707eba-b473-43c0-8de9-981551d339b8",
   "metadata": {},
   "outputs": [],
   "source": []
  }
 ],
 "metadata": {
  "kernelspec": {
   "display_name": "Python 3 (ipykernel)",
   "language": "python",
   "name": "python3"
  },
  "language_info": {
   "codemirror_mode": {
    "name": "ipython",
    "version": 3
   },
   "file_extension": ".py",
   "mimetype": "text/x-python",
   "name": "python",
   "nbconvert_exporter": "python",
   "pygments_lexer": "ipython3",
   "version": "3.11.6"
  }
 },
 "nbformat": 4,
 "nbformat_minor": 5
}
