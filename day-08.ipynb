{
 "cells": [
  {
   "cell_type": "code",
   "execution_count": 1,
   "id": "e861113e-c0a6-4f57-b26b-6b0c02430a84",
   "metadata": {},
   "outputs": [],
   "source": [
    "from aocd import get_data\n",
    "from aocd import submit\n",
    "import unittest\n",
    "\n",
    "day = 8\n",
    "year = 2023\n",
    "\n",
    "def submit_part_a(answer):\n",
    "    submit(answer, part=\"a\", day=day, year=year)\n",
    "\n",
    "def submit_part_b(answer):\n",
    "    submit(answer, part=\"b\", day=day, year=year)\n",
    "\n",
    "input = get_data(day=day, year=year)"
   ]
  },
  {
   "cell_type": "code",
   "execution_count": 2,
   "id": "be175a75-c0e7-41a8-b964-ee4cdae096ae",
   "metadata": {},
   "outputs": [],
   "source": [
    "lines = input.split(\"\\n\")\n",
    "sequence = lines[0]\n",
    "\n",
    "node_lines = lines[2:]\n",
    "nodes = dict()\n",
    "for node_line in node_lines:\n",
    "    node_name, left_right = node_line.split(\" = \")\n",
    "    left, right = left_right[1:-1].split(\", \") # remove first '(' and last ')' then split\n",
    "    nodes[node_name] = (left, right)"
   ]
  },
  {
   "cell_type": "code",
   "execution_count": 3,
   "id": "04a54cdf-d339-4ca1-b160-a14ad1c9ec3a",
   "metadata": {},
   "outputs": [],
   "source": [
    "def resolve_part_a(nodes, sequence):\n",
    "    current_node = \"AAA\"\n",
    "    nb_moves = 0\n",
    "    while current_node != \"ZZZ\":\n",
    "        for direction in sequence:\n",
    "            if current_node == \"ZZZ\":\n",
    "                break\n",
    "            if direction == \"L\":\n",
    "                current_node = nodes[current_node][0]\n",
    "            if direction == \"R\":\n",
    "                current_node = nodes[current_node][1]\n",
    "            nb_moves += 1\n",
    "    return nb_moves"
   ]
  },
  {
   "cell_type": "code",
   "execution_count": 4,
   "id": "26fffce6-a29a-42ed-9681-4a0fd748bd3c",
   "metadata": {},
   "outputs": [
    {
     "name": "stdout",
     "output_type": "stream",
     "text": [
      "17141\n"
     ]
    }
   ],
   "source": [
    "first_answer = resolve_part_a(nodes, sequence)\n",
    "print(first_answer)"
   ]
  },
  {
   "cell_type": "code",
   "execution_count": 5,
   "id": "8f2eed21-8170-417a-947d-28993f1b7076",
   "metadata": {},
   "outputs": [
    {
     "name": "stdout",
     "output_type": "stream",
     "text": [
      "Part a already solved with same answer: 17141\n"
     ]
    }
   ],
   "source": [
    "submit_part_a(first_answer)"
   ]
  },
  {
   "cell_type": "code",
   "execution_count": 6,
   "id": "8d66fdfa-a33d-448f-b142-41f44f674c53",
   "metadata": {},
   "outputs": [
    {
     "name": "stdout",
     "output_type": "stream",
     "text": [
      "17141\n"
     ]
    }
   ],
   "source": [
    "def get_nodes_to_reach_Z_node(nodes, start_node, sequence):\n",
    "    nb_moves = 0\n",
    "    current_node = start_node\n",
    "    while not current_node.endswith(\"Z\"):\n",
    "        for direction in sequence:\n",
    "            if current_node.endswith(\"Z\"):\n",
    "                break\n",
    "            if direction == \"L\":\n",
    "                current_node = nodes[current_node][0]\n",
    "            if direction == \"R\":\n",
    "                current_node = nodes[current_node][1]\n",
    "            nb_moves += 1\n",
    "    return nb_moves\n",
    "\n",
    "print(get_nodes_to_reach_Z_node(nodes, \"AAA\", sequence))"
   ]
  },
  {
   "cell_type": "code",
   "execution_count": 7,
   "id": "1a7ae5c6-0e25-465e-b5b5-7ccc9492be9d",
   "metadata": {},
   "outputs": [],
   "source": [
    "# THIS PIECE OF CODE COMES FROM CHAT-GPT, NOT FROM MY MIND\n",
    "from math import gcd\n",
    "\n",
    "def ppcm(a, b):\n",
    "    \"\"\"Calcul du PPCM de deux nombres\"\"\"\n",
    "    return abs(a * b) // gcd(a, b)\n",
    "\n",
    "def ppcm_of(integers):\n",
    "    \"\"\"Calcul du PPCM d'une liste d'entiers\"\"\"\n",
    "    if len(integers) == 0:\n",
    "        return None\n",
    "    elif len(integers) == 1:\n",
    "        return integers[0]\n",
    "    else:\n",
    "        p = ppcm(integers[0], integers[1])\n",
    "        for i in range(2, len(integers)):\n",
    "            p = ppcm(p, integers[i])\n",
    "        return p"
   ]
  },
  {
   "cell_type": "code",
   "execution_count": 8,
   "id": "d87b64b9-2f21-4a1c-a008-e09689f958fe",
   "metadata": {},
   "outputs": [
    {
     "name": "stdout",
     "output_type": "stream",
     "text": [
      "10818234074807\n",
      "CPU times: user 34.6 ms, sys: 54 µs, total: 34.6 ms\n",
      "Wall time: 34 ms\n"
     ]
    }
   ],
   "source": [
    "%%time\n",
    "start_nodes = [n for n in nodes if n.endswith(\"A\")]\n",
    "nb_moves = [get_nodes_to_reach_Z_node(nodes, start_node, sequence) for start_node in start_nodes]\n",
    "\n",
    "second_answer = ppcm_of(nb_moves)\n",
    "print(second_answer)"
   ]
  },
  {
   "cell_type": "code",
   "execution_count": 9,
   "id": "b941c5f6-7803-4e9a-a0f8-54c73a8a658a",
   "metadata": {},
   "outputs": [
    {
     "name": "stdout",
     "output_type": "stream",
     "text": [
      "aocd will not submit that answer again. At 2023-12-08 05:33:06.956973-05:00 you've previously submitted 10818234074807 and the server responded with:\n",
      "\u001b[32mThat's the right answer!  You are one gold star closer to restoring snow operations.You have completed Day 8! You can [Shareon\n",
      "  Twitter\n",
      "Mastodon] this victory or [Return to Your Advent Calendar].\u001b[0m\n"
     ]
    }
   ],
   "source": [
    "submit_part_b(second_answer)"
   ]
  }
 ],
 "metadata": {
  "kernelspec": {
   "display_name": "Python 3 (ipykernel)",
   "language": "python",
   "name": "python3"
  },
  "language_info": {
   "codemirror_mode": {
    "name": "ipython",
    "version": 3
   },
   "file_extension": ".py",
   "mimetype": "text/x-python",
   "name": "python",
   "nbconvert_exporter": "python",
   "pygments_lexer": "ipython3",
   "version": "3.11.6"
  }
 },
 "nbformat": 4,
 "nbformat_minor": 5
}
