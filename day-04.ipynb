{
 "cells": [
  {
   "cell_type": "code",
   "execution_count": 12,
   "id": "576487cc-6307-45d7-92cb-df8df9a59fa9",
   "metadata": {},
   "outputs": [],
   "source": [
    "from aocd import get_data\n",
    "from aocd import submit\n",
    "import unittest\n",
    "\n",
    "day = 4\n",
    "year = 2023\n",
    "\n",
    "def submit_part_a(answer):\n",
    "    submit(answer, part=\"a\", day=day, year=year)\n",
    "\n",
    "def submit_part_b(answer):\n",
    "    submit(answer, part=\"b\", day=day, year=year)\n",
    "\n",
    "input = get_data(day=day, year=year)"
   ]
  },
  {
   "cell_type": "code",
   "execution_count": 61,
   "id": "ce56ddef-9c33-4382-a5e9-ee59f25cc7ad",
   "metadata": {},
   "outputs": [],
   "source": [
    "import re\n",
    "\n",
    "class Card:\n",
    "    def __init__(self, number, first_list, second_list):\n",
    "        self.number = number\n",
    "        self.first_list = first_list\n",
    "        self.second_list = second_list\n",
    "\n",
    "    @staticmethod\n",
    "    def parse(line):\n",
    "        line = re.sub(r\"Card +(\\d+):\", r\"\\1 |\", line)\n",
    "        splited_line = line.split(\"|\")\n",
    "        number = int(splited_line[0].strip())\n",
    "        first_list = [int(n.strip()) for n in splited_line[1].split(\" \") if n != \"\"]\n",
    "        second_list = [int(n.strip()) for n in splited_line[2].split(\" \") if n != \"\"]\n",
    "        return Card(number, first_list, second_list)\n",
    "\n",
    "    def value(self):\n",
    "        return 1 << len(list(set(self.first_list) & set(self.second_list))) >> 1"
   ]
  },
  {
   "cell_type": "code",
   "execution_count": 62,
   "id": "d8b1316b-b643-4533-ac7d-b12417dd3186",
   "metadata": {},
   "outputs": [
    {
     "name": "stderr",
     "output_type": "stream",
     "text": [
      "test_parse_1 (__main__.CardTest.test_parse_1) ... ok\n",
      "test_parse_2 (__main__.CardTest.test_parse_2) ... ok\n",
      "test_parse_3 (__main__.CardTest.test_parse_3) ... ok\n",
      "test_parse_4 (__main__.CardTest.test_parse_4) ... ok\n",
      "test_parse_5 (__main__.CardTest.test_parse_5) ... ok\n",
      "test_parse_6 (__main__.CardTest.test_parse_6) ... ok\n",
      "test_value_1 (__main__.CardTest.test_value_1) ... ok\n",
      "test_value_2 (__main__.CardTest.test_value_2) ... ok\n",
      "test_value_3 (__main__.CardTest.test_value_3) ... ok\n",
      "test_value_4 (__main__.CardTest.test_value_4) ... ok\n",
      "test_value_5 (__main__.CardTest.test_value_5) ... ok\n",
      "test_value_6 (__main__.CardTest.test_value_6) ... ok\n",
      "\n",
      "----------------------------------------------------------------------\n",
      "Ran 12 tests in 0.047s\n",
      "\n",
      "OK\n"
     ]
    }
   ],
   "source": [
    "class CardTest(unittest.TestCase):\n",
    "    line_1 = \"Card 1: 41 48 83 86 17 | 83 86  6 31 17  9 48 53\"\n",
    "    line_2 = \"Card 2: 13 32 20 16 61 | 61 30 68 82 17 32 24 19\"\n",
    "    line_3 = \"Card 3:  1 21 53 59 44 | 69 82 63 72 16 21 14  1\"\n",
    "    line_4 = \"Card 4: 41 92 73 84 69 | 59 84 76 51 58  5 54 83\"\n",
    "    line_5 = \"Card 5: 87 83 26 28 32 | 88 30 70 12 93 22 82 36\"\n",
    "    line_6 = \"Card 6: 31 18 13 56 72 | 74 77 10 23 35 67 36 11\"\n",
    "\n",
    "    def test_parse_1(self):\n",
    "        card = Card.parse(self.line_1)\n",
    "        self.assertEqual(card.number, 1)\n",
    "        self.assertEqual(card.first_list,  [41, 48, 83, 86, 17])\n",
    "        self.assertEqual(card.second_list, [83, 86,  6, 31, 17,  9, 48, 53])\n",
    "\n",
    "    def test_parse_2(self):\n",
    "        card = Card.parse(self.line_2)\n",
    "        self.assertEqual(card.number, 2)\n",
    "        self.assertEqual(card.first_list,  [13, 32, 20, 16, 61])\n",
    "        self.assertEqual(card.second_list, [61, 30, 68, 82, 17, 32, 24, 19])\n",
    "\n",
    "    def test_parse_3(self):\n",
    "        card = Card.parse(self.line_3)\n",
    "        self.assertEqual(card.number, 3)\n",
    "        self.assertEqual(card.first_list,  [ 1, 21, 53, 59, 44])\n",
    "        self.assertEqual(card.second_list, [69, 82, 63, 72, 16, 21, 14,  1])\n",
    "\n",
    "    def test_parse_4(self):\n",
    "        card = Card.parse(self.line_4)\n",
    "        self.assertEqual(card.number, 4)\n",
    "        self.assertEqual(card.first_list,  [41, 92, 73, 84, 69])\n",
    "        self.assertEqual(card.second_list, [59, 84, 76, 51, 58,  5, 54, 83])\n",
    "\n",
    "    def test_parse_5(self):\n",
    "        card = Card.parse(self.line_5)\n",
    "        self.assertEqual(card.number, 5)\n",
    "        self.assertEqual(card.first_list,  [87, 83, 26, 28, 32])\n",
    "        self.assertEqual(card.second_list, [88, 30, 70, 12, 93, 22, 82, 36])\n",
    "\n",
    "    def test_parse_6(self):\n",
    "        card = Card.parse(self.line_6)\n",
    "        self.assertEqual(card.number, 6)\n",
    "        self.assertEqual(card.first_list,  [31, 18, 13, 56, 72])\n",
    "        self.assertEqual(card.second_list, [74, 77, 10, 23, 35, 67, 36, 11])\n",
    "\n",
    "    def test_value_1(self):\n",
    "        card = Card.parse(self.line_1)\n",
    "        self.assertEqual(card.value(), 8)\n",
    "        \n",
    "    def test_value_2(self):\n",
    "        card = Card.parse(self.line_2)\n",
    "        self.assertEqual(card.value(), 2)\n",
    "        \n",
    "    def test_value_3(self):\n",
    "        card = Card.parse(self.line_3)\n",
    "        self.assertEqual(card.value(), 2)\n",
    "        \n",
    "    def test_value_4(self):\n",
    "        card = Card.parse(self.line_4)\n",
    "        self.assertEqual(card.value(), 1)\n",
    "        \n",
    "    def test_value_5(self):\n",
    "        card = Card.parse(self.line_5)\n",
    "        self.assertEqual(card.value(), 0)\n",
    "        \n",
    "    def test_value_6(self):\n",
    "        card = Card.parse(self.line_6)\n",
    "        self.assertEqual(card.value(), 0)\n",
    "        \n",
    "\n",
    "\n",
    "runner = unittest.TextTestRunner(verbosity=3)\n",
    "res = runner.run(unittest.TestLoader().loadTestsFromTestCase(CardTest)) \n",
    "assert len(res.failures) == 0"
   ]
  },
  {
   "cell_type": "code",
   "execution_count": 65,
   "id": "2f0b9225-3087-48b2-a2a7-dc42c5b4aa3b",
   "metadata": {},
   "outputs": [
    {
     "name": "stdout",
     "output_type": "stream",
     "text": [
      "20667\n"
     ]
    }
   ],
   "source": [
    "first_answer = sum([Card.parse(line).value() for line in input.split(\"\\n\")])\n",
    "print(first_answer)"
   ]
  },
  {
   "cell_type": "code",
   "execution_count": 66,
   "id": "ebcc1600-3660-477c-9c4c-2283e341f192",
   "metadata": {},
   "outputs": [
    {
     "name": "stdout",
     "output_type": "stream",
     "text": [
      "\u001b[32mThat's the right answer!  You are one gold star closer to restoring snow operations. [Continue to Part Two]\u001b[0m\n"
     ]
    }
   ],
   "source": [
    "submit_part_a(first_answer)"
   ]
  },
  {
   "cell_type": "code",
   "execution_count": null,
   "id": "e3d60234-7da4-4df9-8487-91c4b0882535",
   "metadata": {},
   "outputs": [],
   "source": []
  }
 ],
 "metadata": {
  "kernelspec": {
   "display_name": "Python 3 (ipykernel)",
   "language": "python",
   "name": "python3"
  },
  "language_info": {
   "codemirror_mode": {
    "name": "ipython",
    "version": 3
   },
   "file_extension": ".py",
   "mimetype": "text/x-python",
   "name": "python",
   "nbconvert_exporter": "python",
   "pygments_lexer": "ipython3",
   "version": "3.11.6"
  }
 },
 "nbformat": 4,
 "nbformat_minor": 5
}
