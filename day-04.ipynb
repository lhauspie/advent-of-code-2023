{
 "cells": [
  {
   "cell_type": "code",
   "execution_count": 1,
   "id": "576487cc-6307-45d7-92cb-df8df9a59fa9",
   "metadata": {},
   "outputs": [],
   "source": [
    "from aocd import get_data\n",
    "from aocd import submit\n",
    "import unittest\n",
    "\n",
    "day = 4\n",
    "year = 2023\n",
    "\n",
    "def submit_part_a(answer):\n",
    "    submit(answer, part=\"a\", day=day, year=year)\n",
    "\n",
    "def submit_part_b(answer):\n",
    "    submit(answer, part=\"b\", day=day, year=year)\n",
    "\n",
    "input = get_data(day=day, year=year)"
   ]
  },
  {
   "cell_type": "code",
   "execution_count": 2,
   "id": "ce56ddef-9c33-4382-a5e9-ee59f25cc7ad",
   "metadata": {},
   "outputs": [],
   "source": [
    "import re\n",
    "\n",
    "class Card:\n",
    "    memoized_nb_matches = None\n",
    "    \n",
    "    def __init__(self, number, first_list, second_list):\n",
    "        self.number = number\n",
    "        self.first_list = first_list\n",
    "        self.second_list = second_list\n",
    "\n",
    "    @staticmethod\n",
    "    def parse(line):\n",
    "        line = re.sub(r\"Card +(\\d+):\", r\"\\1 |\", line)\n",
    "        splited_line = line.split(\"|\")\n",
    "        number = int(splited_line[0].strip())\n",
    "        first_list = [int(n.strip()) for n in splited_line[1].split(\" \") if n != \"\"]\n",
    "        second_list = [int(n.strip()) for n in splited_line[2].split(\" \") if n != \"\"]\n",
    "        return Card(number, first_list, second_list)\n",
    "\n",
    "    def nb_matches(self):\n",
    "        if self.memoized_nb_matches is None:\n",
    "            self.memoized_nb_matches = len(list(set(self.first_list) & set(self.second_list)))\n",
    "        return self.memoized_nb_matches\n",
    "        \n",
    "    def value(self):\n",
    "        return 1 << self.nb_matches() >> 1"
   ]
  },
  {
   "cell_type": "code",
   "execution_count": 3,
   "id": "d8b1316b-b643-4533-ac7d-b12417dd3186",
   "metadata": {},
   "outputs": [
    {
     "name": "stderr",
     "output_type": "stream",
     "text": [
      "test_parse_1 (__main__.CardTest.test_parse_1) ... ok\n",
      "test_parse_2 (__main__.CardTest.test_parse_2) ... ok\n",
      "test_parse_3 (__main__.CardTest.test_parse_3) ... ok\n",
      "test_parse_4 (__main__.CardTest.test_parse_4) ... ok\n",
      "test_parse_5 (__main__.CardTest.test_parse_5) ... ok\n",
      "test_parse_6 (__main__.CardTest.test_parse_6) ... ok\n",
      "test_value_1 (__main__.CardTest.test_value_1) ... ok\n",
      "test_value_2 (__main__.CardTest.test_value_2) ... ok\n",
      "test_value_3 (__main__.CardTest.test_value_3) ... ok\n",
      "test_value_4 (__main__.CardTest.test_value_4) ... ok\n",
      "test_value_5 (__main__.CardTest.test_value_5) ... ok\n",
      "test_value_6 (__main__.CardTest.test_value_6) ... ok\n",
      "\n",
      "----------------------------------------------------------------------\n",
      "Ran 12 tests in 0.048s\n",
      "\n",
      "OK\n"
     ]
    }
   ],
   "source": [
    "class CardTest(unittest.TestCase):\n",
    "    line_1 = \"Card 1: 41 48 83 86 17 | 83 86  6 31 17  9 48 53\"\n",
    "    line_2 = \"Card 2: 13 32 20 16 61 | 61 30 68 82 17 32 24 19\"\n",
    "    line_3 = \"Card 3:  1 21 53 59 44 | 69 82 63 72 16 21 14  1\"\n",
    "    line_4 = \"Card 4: 41 92 73 84 69 | 59 84 76 51 58  5 54 83\"\n",
    "    line_5 = \"Card 5: 87 83 26 28 32 | 88 30 70 12 93 22 82 36\"\n",
    "    line_6 = \"Card 6: 31 18 13 56 72 | 74 77 10 23 35 67 36 11\"\n",
    "\n",
    "    def test_parse_1(self):\n",
    "        card = Card.parse(self.line_1)\n",
    "        self.assertEqual(card.number, 1)\n",
    "        self.assertEqual(card.first_list,  [41, 48, 83, 86, 17])\n",
    "        self.assertEqual(card.second_list, [83, 86,  6, 31, 17,  9, 48, 53])\n",
    "\n",
    "    def test_parse_2(self):\n",
    "        card = Card.parse(self.line_2)\n",
    "        self.assertEqual(card.number, 2)\n",
    "        self.assertEqual(card.first_list,  [13, 32, 20, 16, 61])\n",
    "        self.assertEqual(card.second_list, [61, 30, 68, 82, 17, 32, 24, 19])\n",
    "\n",
    "    def test_parse_3(self):\n",
    "        card = Card.parse(self.line_3)\n",
    "        self.assertEqual(card.number, 3)\n",
    "        self.assertEqual(card.first_list,  [ 1, 21, 53, 59, 44])\n",
    "        self.assertEqual(card.second_list, [69, 82, 63, 72, 16, 21, 14,  1])\n",
    "\n",
    "    def test_parse_4(self):\n",
    "        card = Card.parse(self.line_4)\n",
    "        self.assertEqual(card.number, 4)\n",
    "        self.assertEqual(card.first_list,  [41, 92, 73, 84, 69])\n",
    "        self.assertEqual(card.second_list, [59, 84, 76, 51, 58,  5, 54, 83])\n",
    "\n",
    "    def test_parse_5(self):\n",
    "        card = Card.parse(self.line_5)\n",
    "        self.assertEqual(card.number, 5)\n",
    "        self.assertEqual(card.first_list,  [87, 83, 26, 28, 32])\n",
    "        self.assertEqual(card.second_list, [88, 30, 70, 12, 93, 22, 82, 36])\n",
    "\n",
    "    def test_parse_6(self):\n",
    "        card = Card.parse(self.line_6)\n",
    "        self.assertEqual(card.number, 6)\n",
    "        self.assertEqual(card.first_list,  [31, 18, 13, 56, 72])\n",
    "        self.assertEqual(card.second_list, [74, 77, 10, 23, 35, 67, 36, 11])\n",
    "\n",
    "    def test_value_1(self):\n",
    "        card = Card.parse(self.line_1)\n",
    "        self.assertEqual(card.value(), 8)\n",
    "        \n",
    "    def test_value_2(self):\n",
    "        card = Card.parse(self.line_2)\n",
    "        self.assertEqual(card.value(), 2)\n",
    "        \n",
    "    def test_value_3(self):\n",
    "        card = Card.parse(self.line_3)\n",
    "        self.assertEqual(card.value(), 2)\n",
    "        \n",
    "    def test_value_4(self):\n",
    "        card = Card.parse(self.line_4)\n",
    "        self.assertEqual(card.value(), 1)\n",
    "        \n",
    "    def test_value_5(self):\n",
    "        card = Card.parse(self.line_5)\n",
    "        self.assertEqual(card.value(), 0)\n",
    "        \n",
    "    def test_value_6(self):\n",
    "        card = Card.parse(self.line_6)\n",
    "        self.assertEqual(card.value(), 0)\n",
    "        \n",
    "\n",
    "\n",
    "runner = unittest.TextTestRunner(verbosity=3)\n",
    "res = runner.run(unittest.TestLoader().loadTestsFromTestCase(CardTest)) \n",
    "assert len(res.failures) == 0"
   ]
  },
  {
   "cell_type": "code",
   "execution_count": 4,
   "id": "2f0b9225-3087-48b2-a2a7-dc42c5b4aa3b",
   "metadata": {},
   "outputs": [
    {
     "name": "stdout",
     "output_type": "stream",
     "text": [
      "20667\n"
     ]
    }
   ],
   "source": [
    "first_answer = sum([Card.parse(line).value() for line in input.split(\"\\n\")])\n",
    "print(first_answer)"
   ]
  },
  {
   "cell_type": "code",
   "execution_count": 66,
   "id": "ebcc1600-3660-477c-9c4c-2283e341f192",
   "metadata": {},
   "outputs": [
    {
     "name": "stdout",
     "output_type": "stream",
     "text": [
      "\u001b[32mThat's the right answer!  You are one gold star closer to restoring snow operations. [Continue to Part Two]\u001b[0m\n"
     ]
    }
   ],
   "source": [
    "submit_part_a(first_answer)"
   ]
  },
  {
   "cell_type": "code",
   "execution_count": 61,
   "id": "e3d60234-7da4-4df9-8487-91c4b0882535",
   "metadata": {},
   "outputs": [],
   "source": [
    "class Cards:\n",
    "    def __init__(self, lines):\n",
    "        self.cards_list = [Card.parse(line) for line in lines]\n",
    "\n",
    "    def get_nb_cards_by_number(self):\n",
    "        nb_cards_by_number = dict()\n",
    "        \n",
    "        for card in self.cards_list:\n",
    "            nb_cards_by_number[card.number] = nb_cards_by_number.get(card.number, 0) + 1\n",
    "            for next_card_number in range(card.number + 1, card.number + 1 + card.nb_matches()):\n",
    "                nb_cards_by_number[next_card_number] = nb_cards_by_number.get(next_card_number, 0) + nb_cards_by_number.get(card.number)\n",
    "        \n",
    "        return nb_cards_by_number\n",
    "\n",
    "    def get_nb_cards(self):\n",
    "        return sum(self.get_nb_cards_by_number().values())"
   ]
  },
  {
   "cell_type": "code",
   "execution_count": 62,
   "id": "bfd172e0-2c0b-4394-baf3-f47f33876c35",
   "metadata": {},
   "outputs": [
    {
     "name": "stderr",
     "output_type": "stream",
     "text": [
      "test_1 (__main__.CardsTest.test_1) ... ok\n",
      "test_2 (__main__.CardsTest.test_2) ... ok\n",
      "\n",
      "----------------------------------------------------------------------\n",
      "Ran 2 tests in 0.011s\n",
      "\n",
      "OK\n"
     ]
    }
   ],
   "source": [
    "class CardsTest(unittest.TestCase):\n",
    "    line_1 = \"Card 1: 41 48 83 86 17 | 83 86  6 31 17  9 48 53\"\n",
    "    line_2 = \"Card 2: 13 32 20 16 61 | 61 30 68 82 17 32 24 19\"\n",
    "    line_3 = \"Card 3:  1 21 53 59 44 | 69 82 63 72 16 21 14  1\"\n",
    "    line_4 = \"Card 4: 41 92 73 84 69 | 59 84 76 51 58  5 54 83\"\n",
    "    line_5 = \"Card 5: 87 83 26 28 32 | 88 30 70 12 93 22 82 36\"\n",
    "    line_6 = \"Card 6: 31 18 13 56 72 | 74 77 10 23 35 67 36 11\"\n",
    "\n",
    "    def test_1(self):\n",
    "        cards = Cards([self.line_1, self.line_2, self.line_3, self.line_4, self.line_5, self.line_6])\n",
    "        self.assertEqual(cards.get_nb_cards_by_number(), {1: 1, 2: 2, 3: 4, 4: 8, 5: 14, 6: 1})\n",
    "        \n",
    "    def test_2(self):\n",
    "        cards = Cards([self.line_1, self.line_2, self.line_3, self.line_4, self.line_5, self.line_6])\n",
    "        self.assertEqual(cards.get_nb_cards(), 30)\n",
    "\n",
    "\n",
    "runner = unittest.TextTestRunner(verbosity=3)\n",
    "res = runner.run(unittest.TestLoader().loadTestsFromTestCase(CardsTest)) \n",
    "assert len(res.failures) == 0"
   ]
  },
  {
   "cell_type": "code",
   "execution_count": 63,
   "id": "b4d76644-b2e2-4a28-8fcf-39dddf6000e8",
   "metadata": {},
   "outputs": [
    {
     "name": "stdout",
     "output_type": "stream",
     "text": [
      "5833065\n",
      "CPU times: user 5.54 ms, sys: 3.87 ms, total: 9.42 ms\n",
      "Wall time: 12.3 ms\n"
     ]
    }
   ],
   "source": [
    "%%time\n",
    "cards = Cards(input.split(\"\\n\"))\n",
    "second_answer = cards.get_nb_cards()\n",
    "print(second_answer)"
   ]
  },
  {
   "cell_type": "code",
   "execution_count": 64,
   "id": "09c07aef-8b1f-4956-9c3b-de357fd0f785",
   "metadata": {},
   "outputs": [
    {
     "name": "stdout",
     "output_type": "stream",
     "text": [
      "aocd will not submit that answer again. At 2023-12-04 08:09:39.841431-05:00 you've previously submitted 5833065 and the server responded with:\n",
      "\u001b[32mThat's the right answer!  You are one gold star closer to restoring snow operations.You have completed Day 4! You can [Shareon\n",
      "  Twitter\n",
      "Mastodon] this victory or [Return to Your Advent Calendar].\u001b[0m\n"
     ]
    }
   ],
   "source": [
    "submit_part_b(second_answer)"
   ]
  }
 ],
 "metadata": {
  "kernelspec": {
   "display_name": "Python 3 (ipykernel)",
   "language": "python",
   "name": "python3"
  },
  "language_info": {
   "codemirror_mode": {
    "name": "ipython",
    "version": 3
   },
   "file_extension": ".py",
   "mimetype": "text/x-python",
   "name": "python",
   "nbconvert_exporter": "python",
   "pygments_lexer": "ipython3",
   "version": "3.11.6"
  }
 },
 "nbformat": 4,
 "nbformat_minor": 5
}
