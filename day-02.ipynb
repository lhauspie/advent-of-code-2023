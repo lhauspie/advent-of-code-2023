{
 "cells": [
  {
   "cell_type": "code",
   "execution_count": 1,
   "id": "47bbd72f-5fb2-42c9-bd8f-a81516cd03c9",
   "metadata": {},
   "outputs": [],
   "source": [
    "from aocd import get_data\n",
    "input = get_data(day=2, year=2023)"
   ]
  },
  {
   "cell_type": "code",
   "execution_count": 2,
   "id": "7366d013-b5aa-4e6e-9312-1e615665762c",
   "metadata": {},
   "outputs": [],
   "source": [
    "lines = input.split('\\n')"
   ]
  },
  {
   "cell_type": "code",
   "execution_count": 3,
   "id": "74ae1575-db08-4b28-b9bc-52f02e8d85db",
   "metadata": {},
   "outputs": [],
   "source": [
    "nb_red = 12\n",
    "nb_green = 13\n",
    "nb_blue = 14\n",
    "\n",
    "class CubeSet:\n",
    "    def __init__(self, cube_set_in_text):\n",
    "        self.r = 0\n",
    "        self.g = 0\n",
    "        self.b = 0\n",
    "        for cube_in_text in cube_set_in_text.split(\",\"):\n",
    "            if cube_in_text.endswith(\" red\"):\n",
    "                self.r = int(cube_in_text.replace(\" red\", \"\"))\n",
    "            if cube_in_text.endswith(\" green\"):\n",
    "                self.g = int(cube_in_text.replace(\" green\", \"\"))\n",
    "            if cube_in_text.endswith(\" blue\"):\n",
    "                self.b = int(cube_in_text.replace(\" blue\", \"\"))        \n",
    "\n",
    "    def is_possible(self):\n",
    "        return self.r <= nb_red and self.g <= nb_green and self.b <= nb_blue\n",
    "\n",
    "    def power(self):\n",
    "        return self.r * self.g * self.b"
   ]
  },
  {
   "cell_type": "code",
   "execution_count": 4,
   "id": "cb2a4ceb-b128-443d-a13d-6280c0b104a0",
   "metadata": {},
   "outputs": [
    {
     "name": "stderr",
     "output_type": "stream",
     "text": [
      "test_parse_1 (__main__.CubeSetTest.test_parse_1) ... ok\n",
      "test_possible_cube_set_0 (__main__.CubeSetTest.test_possible_cube_set_0) ... ok\n",
      "test_possible_cube_set_1 (__main__.CubeSetTest.test_possible_cube_set_1) ... ok\n",
      "test_possible_cube_set_2 (__main__.CubeSetTest.test_possible_cube_set_2) ... ok\n",
      "test_possible_cube_set_3 (__main__.CubeSetTest.test_possible_cube_set_3) ... ok\n",
      "test_possible_cube_set_4 (__main__.CubeSetTest.test_possible_cube_set_4) ... ok\n",
      "test_power_1 (__main__.CubeSetTest.test_power_1) ... ok\n",
      "\n",
      "----------------------------------------------------------------------\n",
      "Ran 7 tests in 0.022s\n",
      "\n",
      "OK\n"
     ]
    }
   ],
   "source": [
    "import unittest\n",
    "\n",
    "class CubeSetTest(unittest.TestCase):\n",
    "    def test_parse_1(self):\n",
    "        cube_set = CubeSet(\"7 green, 10 blue, 8 red\")\n",
    "        self.assertEqual(cube_set.r, 8)\n",
    "        self.assertEqual(cube_set.g, 7)\n",
    "        self.assertEqual(cube_set.b, 10)\n",
    "    \n",
    "    def test_power_1(self):\n",
    "        cube_set = CubeSet(\"7 green, 10 blue, 8 red\")\n",
    "        self.assertEqual(cube_set.power(), 7 * 10 * 8)\n",
    "    \n",
    "    def test_possible_cube_set_0(self):\n",
    "        cube_set = CubeSet(\"12 red, 13 green, 14 blue\")\n",
    "        self.assertEqual(cube_set.is_possible(), True)\n",
    "        \n",
    "    def test_possible_cube_set_1(self):\n",
    "        cube_set = CubeSet(\"10 red, 10 green, 10 blue\")\n",
    "        self.assertEqual(cube_set.is_possible(), True)\n",
    "        \n",
    "    def test_possible_cube_set_2(self):\n",
    "        cube_set = CubeSet(\"15 red, 10 green, 10 blue\")\n",
    "        self.assertEqual(cube_set.is_possible(), False)\n",
    "        \n",
    "    def test_possible_cube_set_3(self):\n",
    "        cube_set = CubeSet(\"10 red, 15 green, 10 blue\")\n",
    "        self.assertEqual(cube_set.is_possible(), False)\n",
    "        \n",
    "    def test_possible_cube_set_4(self):\n",
    "        cube_set = CubeSet(\"10 red, 10 green, 15 blue\")\n",
    "        self.assertEqual(cube_set.is_possible(), False)\n",
    "\n",
    "\n",
    "runner = unittest.TextTestRunner(verbosity=3)\n",
    "res = runner.run(unittest.TestLoader().loadTestsFromTestCase(CubeSetTest)) \n",
    "assert len(res.failures) == 0"
   ]
  },
  {
   "cell_type": "code",
   "execution_count": 5,
   "id": "e6cf5dff-90f3-4584-8f7d-2276caab37b6",
   "metadata": {},
   "outputs": [],
   "source": [
    "class Game:\n",
    "    def __init__(self, line):\n",
    "        first_split = line.split(\":\")\n",
    "        self.id = int(first_split[0].replace(\"Game \", \"\"))\n",
    "        second_split = first_split[1].split(\";\")\n",
    "        self.cube_sets = [ CubeSet(cube_set_in_text) for cube_set_in_text in second_split ]\n",
    "\n",
    "    def is_possible(self):\n",
    "        return all(cube_set.is_possible() for cube_set in self.cube_sets)\n",
    "\n",
    "    def min_cube_set(self):\n",
    "        r = max(cube_set.r for cube_set in self.cube_sets)\n",
    "        g = max(cube_set.g for cube_set in self.cube_sets)\n",
    "        b = max(cube_set.b for cube_set in self.cube_sets)\n",
    "        return CubeSet(f\"{r} red, {g} green, {b} blue\")\n"
   ]
  },
  {
   "cell_type": "code",
   "execution_count": 6,
   "id": "d4ab6274-50e8-437b-8932-afcc3c6b8e4d",
   "metadata": {},
   "outputs": [
    {
     "name": "stderr",
     "output_type": "stream",
     "text": [
      "test_is_possible_1 (__main__.GameTest.test_is_possible_1) ... ok\n",
      "test_is_possible_2 (__main__.GameTest.test_is_possible_2) ... ok\n",
      "test_min_cube_set_1 (__main__.GameTest.test_min_cube_set_1) ... ok\n",
      "test_min_cube_set_2 (__main__.GameTest.test_min_cube_set_2) ... ok\n",
      "test_parse_1 (__main__.GameTest.test_parse_1) ... ok\n",
      "test_parse_2 (__main__.GameTest.test_parse_2) ... ok\n",
      "\n",
      "----------------------------------------------------------------------\n",
      "Ran 6 tests in 0.023s\n",
      "\n",
      "OK\n"
     ]
    }
   ],
   "source": [
    "import unittest\n",
    "\n",
    "class GameTest(unittest.TestCase):\n",
    "    def test_parse_1(self):\n",
    "        game = Game(\"Game 1: 3 blue, 4 red; 1 red, 2 green, 6 blue; 2 green\")\n",
    "        self.assertEqual(game.id, 1)\n",
    "        self.assertEqual(len(game.cube_sets), 3)\n",
    "        self.assertEqual(game.cube_sets[0].r, 4)\n",
    "        self.assertEqual(game.cube_sets[0].g, 0)\n",
    "        self.assertEqual(game.cube_sets[0].b, 3)\n",
    "        self.assertEqual(game.cube_sets[1].r, 1)\n",
    "        self.assertEqual(game.cube_sets[1].g, 2)\n",
    "        self.assertEqual(game.cube_sets[1].b, 6)\n",
    "        self.assertEqual(game.cube_sets[2].r, 0)\n",
    "        self.assertEqual(game.cube_sets[2].g, 2)\n",
    "        self.assertEqual(game.cube_sets[2].b, 0)\n",
    "        \n",
    "    def test_parse_2(self):\n",
    "        game = Game(\"Game 56: 12 blue, 40 red; 11 red, 21 green, 16 blue; 12 green\")\n",
    "        self.assertEqual(game.id, 56)\n",
    "        self.assertEqual(len(game.cube_sets), 3)\n",
    "        self.assertEqual(game.cube_sets[0].r, 40)\n",
    "        self.assertEqual(game.cube_sets[0].g, 0)\n",
    "        self.assertEqual(game.cube_sets[0].b, 12)\n",
    "        self.assertEqual(game.cube_sets[1].r, 11)\n",
    "        self.assertEqual(game.cube_sets[1].g, 21)\n",
    "        self.assertEqual(game.cube_sets[1].b, 16)\n",
    "        self.assertEqual(game.cube_sets[2].r, 0)\n",
    "        self.assertEqual(game.cube_sets[2].g, 12)\n",
    "        self.assertEqual(game.cube_sets[2].b, 0)\n",
    "\n",
    "    def test_is_possible_1(self):\n",
    "        game = Game(\"Game 56: 12 blue, 40 red; 11 red, 21 green, 16 blue; 12 green\")\n",
    "        self.assertEqual(game.is_possible(), False)\n",
    "\n",
    "    def test_is_possible_2(self):\n",
    "        game = Game(\"Game 56: 12 blue, 10 red; 11 red, 2 green, 6 blue; 12 green\")\n",
    "        self.assertEqual(game.is_possible(), True)\n",
    "\n",
    "    def test_min_cube_set_1(self):\n",
    "        game = Game(\"Game 56: 12 blue, 40 red; 11 red, 21 green, 16 blue; 12 green\")\n",
    "        self.assertEqual(game.min_cube_set().r, 40)\n",
    "        self.assertEqual(game.min_cube_set().g, 21)\n",
    "        self.assertEqual(game.min_cube_set().b, 16)\n",
    "\n",
    "    def test_min_cube_set_2(self):\n",
    "        game = Game(\"Game 56: 12 blue, 10 red; 11 red, 2 green, 6 blue; 12 green\")\n",
    "        self.assertEqual(game.min_cube_set().r, 11)\n",
    "        self.assertEqual(game.min_cube_set().g, 12)\n",
    "        self.assertEqual(game.min_cube_set().b, 12)\n",
    "\n",
    "\n",
    "runner = unittest.TextTestRunner(verbosity=3)\n",
    "res = runner.run(unittest.TestLoader().loadTestsFromTestCase(GameTest)) \n",
    "assert len(res.failures) == 0"
   ]
  },
  {
   "cell_type": "code",
   "execution_count": 7,
   "id": "d68654ab-b6fa-461a-9629-be831cd3ab31",
   "metadata": {},
   "outputs": [
    {
     "name": "stdout",
     "output_type": "stream",
     "text": [
      "2164\n"
     ]
    }
   ],
   "source": [
    "games = [Game(line) for line in lines]\n",
    "first_answer = sum(game.id for game in games if game.is_possible())\n",
    "print(first_answer)"
   ]
  },
  {
   "cell_type": "code",
   "execution_count": 8,
   "id": "42bef04a-18f0-4bb0-97f0-e062e51c5c82",
   "metadata": {},
   "outputs": [
    {
     "name": "stdout",
     "output_type": "stream",
     "text": [
      "aocd will not submit that answer again. At 2023-12-02 12:22:42.149391-05:00 you've previously submitted 2164 and the server responded with:\n",
      "\u001b[32mThat's the right answer!  You are one gold star closer to restoring snow operations. [Continue to Part Two]\u001b[0m\n"
     ]
    }
   ],
   "source": [
    "from aocd import submit\n",
    "submit(first_answer, part=\"a\", day=2, year=2023)"
   ]
  },
  {
   "cell_type": "code",
   "execution_count": 9,
   "id": "8bd68c8f-d005-4b21-9ae7-00942ca8b9b6",
   "metadata": {},
   "outputs": [
    {
     "name": "stdout",
     "output_type": "stream",
     "text": [
      "69929\n"
     ]
    }
   ],
   "source": [
    "second_answer = sum(game.min_cube_set().power() for game in games)\n",
    "print(second_answer)"
   ]
  },
  {
   "cell_type": "code",
   "execution_count": 10,
   "id": "357555b8-8d1f-4d3c-ad53-c07eb38c8377",
   "metadata": {},
   "outputs": [
    {
     "name": "stdout",
     "output_type": "stream",
     "text": [
      "aocd will not submit that answer again. At 2023-12-02 12:35:27.699488-05:00 you've previously submitted 69929 and the server responded with:\n",
      "\u001b[32mThat's the right answer!  You are one gold star closer to restoring snow operations.You have completed Day 2! You can [Shareon\n",
      "  Twitter\n",
      "Mastodon] this victory or [Return to Your Advent Calendar].\u001b[0m\n"
     ]
    }
   ],
   "source": [
    "from aocd import submit\n",
    "submit(second_answer, part=\"b\", day=2, year=2023)"
   ]
  }
 ],
 "metadata": {
  "kernelspec": {
   "display_name": "Python 3 (ipykernel)",
   "language": "python",
   "name": "python3"
  },
  "language_info": {
   "codemirror_mode": {
    "name": "ipython",
    "version": 3
   },
   "file_extension": ".py",
   "mimetype": "text/x-python",
   "name": "python",
   "nbconvert_exporter": "python",
   "pygments_lexer": "ipython3",
   "version": "3.11.6"
  }
 },
 "nbformat": 4,
 "nbformat_minor": 5
}
