{
 "cells": [
  {
   "cell_type": "code",
   "execution_count": 1,
   "id": "48a92390-0807-4d85-8bf7-d1a88791e3e1",
   "metadata": {},
   "outputs": [],
   "source": [
    "from aocd import get_data\n",
    "from aocd import submit\n",
    "import unittest\n",
    "\n",
    "day = 6\n",
    "year = 2023\n",
    "\n",
    "def submit_part_a(answer):\n",
    "    submit(answer, part=\"a\", day=day, year=year)\n",
    "\n",
    "def submit_part_b(answer):\n",
    "    submit(answer, part=\"b\", day=day, year=year)\n",
    "\n",
    "input = get_data(day=day, year=year)"
   ]
  },
  {
   "cell_type": "code",
   "execution_count": 2,
   "id": "44a5990e-dc52-4e99-b057-c01145e25acd",
   "metadata": {},
   "outputs": [],
   "source": [
    "# Just create the prod operation to be used like sum() but to multiply\n",
    "from functools import reduce\n",
    "import operator\n",
    "def prod(iterable):\n",
    "    return reduce(operator.mul, iterable, 1)"
   ]
  },
  {
   "cell_type": "code",
   "execution_count": 3,
   "id": "004e30b5-1cb0-417b-b70e-bf3214b3d784",
   "metadata": {},
   "outputs": [],
   "source": [
    "lines = input.split(\"\\n\")\n",
    "times = [int(t) for t in lines[0].replace(\"Time:\", \"\").strip().split()]\n",
    "distances = [int(d) for d in lines[1].replace(\"Distance:\", \"\").strip().split()]\n",
    "\n",
    "races = list(zip(times, distances))"
   ]
  },
  {
   "cell_type": "code",
   "execution_count": 4,
   "id": "eda94e8d-1e0e-43bf-aa07-3619b875f876",
   "metadata": {},
   "outputs": [],
   "source": [
    "# f(x) = x * (k - x) = -x2 + kx \n",
    "def distance_raised(button_time, total_time):\n",
    "    return button_time * (total_time - button_time)\n",
    "    \n",
    "def nb_possible_strategies_to_win(time, record):\n",
    "    return sum(\n",
    "        1\n",
    "        for current_time in range(time)\n",
    "        if distance_raised(current_time, time) > record\n",
    "    )"
   ]
  },
  {
   "cell_type": "code",
   "execution_count": 5,
   "id": "d6132b07-078a-49e1-b104-0f3c81b4a81c",
   "metadata": {},
   "outputs": [
    {
     "name": "stdout",
     "output_type": "stream",
     "text": [
      "32076\n",
      "CPU times: user 139 µs, sys: 0 ns, total: 139 µs\n",
      "Wall time: 147 µs\n"
     ]
    }
   ],
   "source": [
    "%%time\n",
    "first_answer = prod([nb_possible_strategies_to_win(total_time, record) for total_time, record in races])\n",
    "print(first_answer)"
   ]
  },
  {
   "cell_type": "code",
   "execution_count": 6,
   "id": "00f2f432-2b33-4ec5-8dd9-c3fdc3d6389c",
   "metadata": {},
   "outputs": [
    {
     "name": "stdout",
     "output_type": "stream",
     "text": [
      "aocd will not submit that answer again. At 2023-12-06 07:56:51.793541-05:00 you've previously submitted 32076 and the server responded with:\n",
      "\u001b[32mThat's the right answer!  You are one gold star closer to restoring snow operations. [Continue to Part Two]\u001b[0m\n"
     ]
    }
   ],
   "source": [
    "submit_part_a(first_answer)"
   ]
  },
  {
   "cell_type": "markdown",
   "id": "7e940059-cc64-4314-b9a0-edf35b625546",
   "metadata": {},
   "source": [
    "La formule de calcul pour trouver la distance en fonction du temps total $total\\_time$ et du temps d'appuis sur le bouton $push\\_time$ est :\n",
    "$$\n",
    "f(push\\_time) = push\\_time \\cdot (total\\_time - push\\_time) \\iff f(push\\_time) = -push\\_time ^ 2 + total\\_time \\cdot push\\_time\n",
    "$$\n",
    "\n",
    "Résoudre le puzzle revient donc à trouver les intersections entre cette fonction et la fonction linéaire suivante :\n",
    "$$\n",
    "f(push\\_time)=record\n",
    "$$\n",
    "\n",
    "\n",
    "On peut donc résoudre l'équation suivante :\n",
    "$$\n",
    "-push\\_time ^ 2 + total\\_time \\cdot push\\_time = record\n",
    "$$\n",
    "\n",
    "\n",
    "Maintenant, on peut utiliser la formule quadratique pour connaitre les valeurs de $push\\_button$ qui donneront exactement le $record$ :\n",
    "$$\n",
    "-push\\_time ^ 2 + total\\_time \\cdot push\\_time - record = 0\n",
    "$$\n",
    "Qui ressemble à :\n",
    "$$\n",
    "ax^2 + bx + c = 0 \\iff x = \\frac{{−b ± \\sqrt{{b^2 − 4ac}}}}{{2a}}\n",
    "​​$$\n",
    "Avec $x = push\\_time$, $a = -1$, $b = total\\_time$ et $c = -record$\n",
    "\n",
    "Il faut donc résoudre l'équation suivante :\n",
    "$$\n",
    "-1 \\cdot push\\_time^2 + total\\_time \\cdot push\\_time + (-record) = 0\n",
    "$$\n",
    "$$\n",
    "\\iff push\\_time = \\frac{{-total\\_time \\pm \\sqrt{{total\\_time^2 - 4 \\cdot (-1) \\cdot (-record)}}}}{{-2}}\n",
    "$$\n",
    "$$\n",
    "\\iff push\\_time = \\frac{{-total\\_time \\pm \\sqrt{{total\\_time^2 - 4 \\cdot record}}}}{{-2}}\n",
    "$$"
   ]
  },
  {
   "cell_type": "code",
   "execution_count": 7,
   "id": "42f4bf7c-8219-405e-971f-245c4fba4c0c",
   "metadata": {},
   "outputs": [],
   "source": [
    "import math\n",
    "\n",
    "def find_bounds(total_time, record):\n",
    "    first_bound  = (-total_time + math.sqrt(total_time**2 - record * 4)) / -2\n",
    "    second_bound = (-total_time - math.sqrt(total_time**2 - record * 4)) / -2\n",
    "\n",
    "    return math.ceil(min(first_bound, second_bound)), math.floor(max(first_bound, second_bound))"
   ]
  },
  {
   "cell_type": "code",
   "execution_count": 8,
   "id": "95f58894-0f91-4dde-bcde-31c7c793d946",
   "metadata": {},
   "outputs": [
    {
     "name": "stdout",
     "output_type": "stream",
     "text": [
      "34278221\n",
      "CPU times: user 100 µs, sys: 19 µs, total: 119 µs\n",
      "Wall time: 130 µs\n"
     ]
    }
   ],
   "source": [
    "%%time\n",
    "\n",
    "total_time = int(lines[0].replace(\"Time:\", \"\").replace(\" \", \"\"))\n",
    "record     = int(lines[1].replace(\"Distance:\", \"\").replace(\" \", \"\"))\n",
    "\n",
    "inclusive_bounds = find_bounds(total_time, record)\n",
    "second_answer = inclusive_bounds[1] - inclusive_bounds[0] + 1\n",
    "print(second_answer)"
   ]
  },
  {
   "cell_type": "code",
   "execution_count": 9,
   "id": "e16a8237-732a-4f20-8f9e-245c8dc77056",
   "metadata": {},
   "outputs": [
    {
     "name": "stdout",
     "output_type": "stream",
     "text": [
      "aocd will not submit that answer again. At 2023-12-06 13:20:08.876282-05:00 you've previously submitted 34278221 and the server responded with:\n",
      "\u001b[32mThat's the right answer!  You are one gold star closer to restoring snow operations.You have completed Day 6! You can [Shareon\n",
      "  Twitter\n",
      "Mastodon] this victory or [Return to Your Advent Calendar].\u001b[0m\n"
     ]
    }
   ],
   "source": [
    "submit_part_b(second_answer)"
   ]
  }
 ],
 "metadata": {
  "kernelspec": {
   "display_name": "Python 3 (ipykernel)",
   "language": "python",
   "name": "python3"
  },
  "language_info": {
   "codemirror_mode": {
    "name": "ipython",
    "version": 3
   },
   "file_extension": ".py",
   "mimetype": "text/x-python",
   "name": "python",
   "nbconvert_exporter": "python",
   "pygments_lexer": "ipython3",
   "version": "3.11.6"
  }
 },
 "nbformat": 4,
 "nbformat_minor": 5
}
