{
 "cells": [
  {
   "cell_type": "code",
   "execution_count": 1,
   "id": "d978e972-32b0-40e4-b8f3-3bba7cb51560",
   "metadata": {},
   "outputs": [],
   "source": [
    "from aocd import get_data\n",
    "from aocd import submit\n",
    "import unittest\n",
    "\n",
    "day = 3\n",
    "year = 2023\n",
    "\n",
    "def submit_part_a(answer):\n",
    "    submit(answer, part=\"a\", day=day, year=year)\n",
    "\n",
    "def submit_part_b(answer):\n",
    "    submit(answer, part=\"b\", day=day, year=year)\n",
    "\n",
    "input = get_data(day=day, year=year)"
   ]
  },
  {
   "cell_type": "code",
   "execution_count": 2,
   "id": "8d44f061-d1f6-4597-9012-8d0aa13e54d5",
   "metadata": {},
   "outputs": [],
   "source": [
    "matrix = [[c for c in list(line)] for line in input.split('\\n')]"
   ]
  },
  {
   "cell_type": "code",
   "execution_count": 3,
   "id": "1ca54c18-998a-4d36-8e19-b950ea3dcc05",
   "metadata": {},
   "outputs": [],
   "source": [
    "# Just create the prod operation to be used like sum() but to multiply\n",
    "from functools import reduce\n",
    "import operator\n",
    "def prod(iterable):\n",
    "    return reduce(operator.mul, iterable, 1)"
   ]
  },
  {
   "cell_type": "code",
   "execution_count": 4,
   "id": "a6dcb8ef-a4f3-486a-9b1e-2afaa5c046ba",
   "metadata": {},
   "outputs": [],
   "source": [
    "class Part:\n",
    "    def __init__(self, number, symbol, symbol_x, symbol_y):\n",
    "        self.number = number\n",
    "        self.symbol = symbol\n",
    "        self.symbol_x = symbol_x\n",
    "        self.symbol_y = symbol_y\n",
    "\n",
    "    def is_adjacent_to_gear(self):\n",
    "        return self.symbol == '*'\n",
    "\n",
    "    def get_symbol_coord(self):\n",
    "        return self.symbol_x, self.symbol_y\n",
    "\n",
    "\n",
    "class Schematic:\n",
    "    digits_and_nothing = \"0123456789.\"\n",
    "\n",
    "    def __init__(self, matrix):\n",
    "        self.matrix = matrix\n",
    "\n",
    "    def get_part_numbers(self):\n",
    "        return [part.number for part in self.get_parts()]\n",
    "\n",
    "    def get_gear_ratios(self):\n",
    "        parts_adjecent_to_a_gear = [part for part in self.get_parts() if part.is_adjacent_to_gear()]\n",
    "        gear_ratios = []\n",
    "        for y in range(len(self.matrix)):\n",
    "            for x in range(len(self.matrix[y])):\n",
    "                if self.matrix[y][x] == '*':\n",
    "                    parts_adjacent_to_this_gear = [part.number for part in parts_adjecent_to_a_gear if part.get_symbol_coord() == (x, y)]\n",
    "                    if len(parts_adjacent_to_this_gear) == 2:\n",
    "                        gear_ratios.append(prod(parts_adjacent_to_this_gear))\n",
    "        return gear_ratios\n",
    "    \n",
    "    def get_parts(self):\n",
    "        parts = []\n",
    "        for y in range(len(self.matrix)):\n",
    "            current_part_number = 0\n",
    "            symbol = None\n",
    "            symbol_x = None\n",
    "            symbol_y = None\n",
    "            for x in range(len(self.matrix[y])):\n",
    "                current_char = self.matrix[y][x]\n",
    "                if current_char.isdigit():\n",
    "                    current_part_number = current_part_number * 10 + int(current_char)\n",
    "                    if symbol is None:\n",
    "                        symbol, symbol_x, symbol_y = self.get_symbol_arround(x, y)\n",
    "                else:\n",
    "                    if symbol is not None:\n",
    "                        parts.append(Part(current_part_number, symbol, symbol_x, symbol_y))\n",
    "                    current_part_number = 0\n",
    "                    symbol, symbol_x, symbol_y = None, None, None\n",
    "            # Manage case when last char of line is a digit\n",
    "            if symbol is not None:\n",
    "                parts.append(Part(current_part_number, symbol, symbol_x, symbol_y))\n",
    "            current_part_number = 0\n",
    "            symbol, symbol_x, symbol_y = None, None, None\n",
    "        return parts\n",
    "\n",
    "    def get_symbol_arround(self, x, y):\n",
    "        if self.has_symbol_at(x-1, y-1):\n",
    "            return self.matrix[y-1][x-1], x-1, y-1\n",
    "        if self.has_symbol_at(x, y-1):\n",
    "            return self.matrix[y-1][x], x, y-1\n",
    "        if self.has_symbol_at(x+1, y-1):\n",
    "            return self.matrix[y-1][x+1], x+1, y-1\n",
    "        if self.has_symbol_at(x-1, y):\n",
    "            return self.matrix[y][x-1], x-1, y\n",
    "        if self.has_symbol_at(x+1, y):\n",
    "            return self.matrix[y][x+1], x+1, y\n",
    "        if self.has_symbol_at(x-1, y+1):\n",
    "            return self.matrix[y+1][x-1], x-1, y+1\n",
    "        if self.has_symbol_at(x, y+1):\n",
    "            return self.matrix[y+1][x], x, y+1, \n",
    "        if self.has_symbol_at(x+1, y+1):\n",
    "            return self.matrix[y+1][x+1], x+1, y+1\n",
    "        return None, None, None\n",
    "\n",
    "    \n",
    "    def has_symbol_arround(self, x, y):\n",
    "        return (self.has_symbol_at(x-1, y-1)\n",
    "                or self.has_symbol_at(x, y-1)\n",
    "                or self.has_symbol_at(x+1, y-1)\n",
    "                or self.has_symbol_at(x-1, y)\n",
    "                or self.has_symbol_at(x+1, y)\n",
    "                or self.has_symbol_at(x-1, y+1)\n",
    "                or self.has_symbol_at(x, y+1)\n",
    "                or self.has_symbol_at(x+1, y+1))\n",
    "\n",
    "    def has_symbol_at(self, x, y):\n",
    "        if (y < 0):\n",
    "            return False\n",
    "        if (y >= len(self.matrix)):\n",
    "            return False\n",
    "        if (x < 0):\n",
    "            return False\n",
    "        if (x >= len(self.matrix[0])):\n",
    "            return False\n",
    "        if self.matrix[y][x] not in self.digits_and_nothing:\n",
    "            return True\n",
    "        return False"
   ]
  },
  {
   "cell_type": "code",
   "execution_count": 5,
   "id": "01015d11-d21a-456f-b5cf-83bbeb1d20a1",
   "metadata": {},
   "outputs": [
    {
     "name": "stderr",
     "output_type": "stream",
     "text": [
      "test_0 (__main__.SchematicTest.test_0) ... ok\n",
      "test_1 (__main__.SchematicTest.test_1) ... ok\n",
      "test_2 (__main__.SchematicTest.test_2) ... ok\n",
      "\n",
      "----------------------------------------------------------------------\n",
      "Ran 3 tests in 0.012s\n",
      "\n",
      "OK\n"
     ]
    }
   ],
   "source": [
    "class SchematicTest(unittest.TestCase):\n",
    "    matrix = [\n",
    "        ['4', '6', '7', '.', '.', '1', '1', '4', '.', '.'],\n",
    "        ['.', '.', '.', '*', '.', '.', '.', '.', '.', '.'],\n",
    "        ['.', '.', '3', '5', '.', '.', '.', '.', '.', '.'],\n",
    "        ['.', '.', '.', '.', '.', '.', '#', '6', '3', '3'],\n",
    "        ['6', '1', '7', '*', '.', '.', '.', '.', '.', '.'],\n",
    "        ['.', '.', '.', '.', '.', '+', '.', '5', '8', '.'],\n",
    "        ['.', '.', '5', '9', '2', '.', '.', '.', '.', '.'],\n",
    "        ['.', '.', '.', '.', '.', '.', '7', '5', '5', '.'],\n",
    "        ['.', '.', '.', '$', '.', '*', '.', '.', '.', '.'],\n",
    "        ['.', '6', '6', '4', '.', '5', '9', '8', '.', '.']\n",
    "    ]\n",
    "    \n",
    "    def test_0(self):\n",
    "        schematic = Schematic(self.matrix)\n",
    "        self.assertEqual(schematic.has_symbol_arround(0, 0), False)\n",
    "        self.assertEqual(schematic.has_symbol_arround(1, 0), False)\n",
    "        self.assertEqual(schematic.has_symbol_arround(2, 0), True)\n",
    "\n",
    "    def test_1(self):\n",
    "        schematic = Schematic(self.matrix)\n",
    "        self.assertEqual(schematic.get_part_numbers(), [467, 35, 633, 617, 592, 755, 664, 598])\n",
    "\n",
    "    def test_2(self):\n",
    "        schematic = Schematic(self.matrix)\n",
    "        self.assertEqual(sum(schematic.get_part_numbers()), 4361)\n",
    "\n",
    "\n",
    "runner = unittest.TextTestRunner(verbosity=3)\n",
    "res = runner.run(unittest.TestLoader().loadTestsFromTestCase(SchematicTest)) \n",
    "assert len(res.failures) == 0"
   ]
  },
  {
   "cell_type": "code",
   "execution_count": 6,
   "id": "4bcbfa88-2066-4da6-b9dc-0a00c5099a77",
   "metadata": {},
   "outputs": [
    {
     "name": "stdout",
     "output_type": "stream",
     "text": [
      "525181\n",
      "CPU times: user 16.7 ms, sys: 3.3 ms, total: 20 ms\n",
      "Wall time: 19.1 ms\n"
     ]
    }
   ],
   "source": [
    "%%time\n",
    "schematic = Schematic(matrix)\n",
    "first_answer = sum(schematic.get_part_numbers())\n",
    "print(first_answer)"
   ]
  },
  {
   "cell_type": "code",
   "execution_count": 7,
   "id": "6ba0346f-d32e-45c1-b834-0d9bd485be08",
   "metadata": {},
   "outputs": [
    {
     "name": "stdout",
     "output_type": "stream",
     "text": [
      "aocd will not submit that answer again. At 2023-12-03 12:34:59.100768-05:00 you've previously submitted 525181 and the server responded with:\n",
      "\u001b[32mThat's the right answer!  You are one gold star closer to restoring snow operations. [Continue to Part Two]\u001b[0m\n"
     ]
    }
   ],
   "source": [
    "submit_part_a(first_answer)"
   ]
  },
  {
   "cell_type": "code",
   "execution_count": 8,
   "id": "f3b1dd37-4d33-436d-afc5-7993fe30bb9c",
   "metadata": {},
   "outputs": [
    {
     "name": "stderr",
     "output_type": "stream",
     "text": [
      "test_1 (__main__.SchematicTest.test_1) ... ok\n",
      "\n",
      "----------------------------------------------------------------------\n",
      "Ran 1 test in 0.010s\n",
      "\n",
      "OK\n"
     ]
    }
   ],
   "source": [
    "class SchematicTest(unittest.TestCase):\n",
    "    matrix = [\n",
    "        ['4', '6', '7', '.', '.', '1', '1', '4', '.', '.'],\n",
    "        ['.', '.', '.', '*', '.', '.', '.', '.', '.', '.'],\n",
    "        ['.', '.', '3', '5', '.', '.', '.', '.', '.', '.'],\n",
    "        ['.', '.', '.', '.', '.', '.', '#', '6', '3', '3'],\n",
    "        ['6', '1', '7', '*', '.', '.', '.', '.', '.', '.'],\n",
    "        ['.', '.', '.', '.', '.', '+', '.', '5', '8', '.'],\n",
    "        ['.', '.', '5', '9', '2', '.', '.', '.', '.', '.'],\n",
    "        ['.', '.', '.', '.', '.', '.', '7', '5', '5', '.'],\n",
    "        ['.', '.', '.', '$', '.', '*', '.', '.', '.', '.'],\n",
    "        ['.', '6', '6', '4', '.', '5', '9', '8', '.', '.']\n",
    "    ]\n",
    "    \n",
    "    def test_1(self):\n",
    "        schematic = Schematic(self.matrix)\n",
    "        self.assertEqual(schematic.get_symbol_arround(2, 0), ('*', 3, 1))\n",
    "        self.assertEqual(schematic.get_gear_ratios(), [16345, 451490])\n",
    "\n",
    "\n",
    "runner = unittest.TextTestRunner(verbosity=3)\n",
    "res = runner.run(unittest.TestLoader().loadTestsFromTestCase(SchematicTest)) \n",
    "assert len(res.failures) == 0"
   ]
  },
  {
   "cell_type": "code",
   "execution_count": 9,
   "id": "cb3e5a79-bde8-4b9f-85f9-83f4f2b473f1",
   "metadata": {},
   "outputs": [
    {
     "name": "stdout",
     "output_type": "stream",
     "text": [
      "84289137\n",
      "CPU times: user 85.4 ms, sys: 6.9 ms, total: 92.3 ms\n",
      "Wall time: 89.2 ms\n"
     ]
    }
   ],
   "source": [
    "%%time\n",
    "schematic = Schematic(matrix)\n",
    "second_answer = sum(schematic.get_gear_ratios())\n",
    "print(second_answer)"
   ]
  },
  {
   "cell_type": "code",
   "execution_count": 10,
   "id": "ffb761e4-3713-4396-a90b-fa885e5631e1",
   "metadata": {},
   "outputs": [
    {
     "name": "stdout",
     "output_type": "stream",
     "text": [
      "aocd will not submit that answer again. At 2023-12-03 14:57:22.412632-05:00 you've previously submitted 84289137 and the server responded with:\n",
      "\u001b[32mThat's the right answer!  You are one gold star closer to restoring snow operations.You have completed Day 3! You can [Shareon\n",
      "  Twitter\n",
      "Mastodon] this victory or [Return to Your Advent Calendar].\u001b[0m\n"
     ]
    }
   ],
   "source": [
    "submit_part_b(second_answer)"
   ]
  }
 ],
 "metadata": {
  "kernelspec": {
   "display_name": "Python 3 (ipykernel)",
   "language": "python",
   "name": "python3"
  },
  "language_info": {
   "codemirror_mode": {
    "name": "ipython",
    "version": 3
   },
   "file_extension": ".py",
   "mimetype": "text/x-python",
   "name": "python",
   "nbconvert_exporter": "python",
   "pygments_lexer": "ipython3",
   "version": "3.11.6"
  }
 },
 "nbformat": 4,
 "nbformat_minor": 5
}
