{
 "cells": [
  {
   "cell_type": "code",
   "execution_count": 1,
   "id": "e8893881-08b3-460e-b981-a5a04e4e0201",
   "metadata": {},
   "outputs": [],
   "source": [
    "from aocd import get_data\n",
    "from aocd import submit\n",
    "import unittest\n",
    "\n",
    "day = 11\n",
    "year = 2023\n",
    "\n",
    "def submit_part_a(answer):\n",
    "    submit(answer, part=\"a\", day=day, year=year)\n",
    "\n",
    "def submit_part_b(answer):\n",
    "    submit(answer, part=\"b\", day=day, year=year)\n",
    "\n",
    "input = get_data(day=day, year=year)"
   ]
  },
  {
   "cell_type": "markdown",
   "id": "1ddc0d92-b39a-4935-a66c-dbddd57e621a",
   "metadata": {},
   "source": [
    "## Build the universe"
   ]
  },
  {
   "cell_type": "code",
   "execution_count": 2,
   "id": "7c2a4f57-5ce4-4d23-8eaa-1831db997ce4",
   "metadata": {},
   "outputs": [],
   "source": [
    "example_universe = [\n",
    "    ['.', '.', '.', '#', '.', '.', '.', '.', '.', '.'],\n",
    "    ['.', '.', '.', '.', '.', '.', '.', '#', '.', '.'],\n",
    "    ['#', '.', '.', '.', '.', '.', '.', '.', '.', '.'],\n",
    "    ['.', '.', '.', '.', '.', '.', '.', '.', '.', '.'],\n",
    "    ['.', '.', '.', '.', '.', '.', '#', '.', '.', '.'],\n",
    "    ['.', '#', '.', '.', '.', '.', '.', '.', '.', '.'],\n",
    "    ['.', '.', '.', '.', '.', '.', '.', '.', '.', '#'],\n",
    "    ['.', '.', '.', '.', '.', '.', '.', '.', '.', '.'],\n",
    "    ['.', '.', '.', '.', '.', '.', '.', '#', '.', '.'],\n",
    "    ['#', '.', '.', '.', '#', '.', '.', '.', '.', '.']\n",
    "]\n",
    "\n",
    "universe = [list(line) for line in input.split('\\n')]"
   ]
  },
  {
   "cell_type": "markdown",
   "id": "71dab4b1-cf6d-4892-9c19-caa2980ed0f1",
   "metadata": {},
   "source": [
    "# Part 1"
   ]
  },
  {
   "cell_type": "markdown",
   "id": "11ae5217-cc4a-4aa6-9e98-f22a3cdea947",
   "metadata": {},
   "source": [
    "## Retrieves the coords of each galaxy after expansion"
   ]
  },
  {
   "cell_type": "code",
   "execution_count": 3,
   "id": "fe2ef4c2-cffe-4339-9739-d855710439a8",
   "metadata": {},
   "outputs": [
    {
     "name": "stdout",
     "output_type": "stream",
     "text": [
      "The real coords of galaxies after expansion [(4, 0), (9, 1), (0, 2), (8, 5), (1, 6), (12, 7), (9, 10), (0, 11), (5, 11)]\n"
     ]
    }
   ],
   "source": [
    "def get_real_coords_of_galaxies(universe, nb_expansions=1):\n",
    "    rows_to_expand = [True] * len(universe)\n",
    "    cols_to_expand = [True] * len(universe[0])\n",
    "    galaxies_coords = []\n",
    "    for y in range(len(universe)):\n",
    "        rows_to_expand[y] = universe[y].count('.') == len(universe[y])\n",
    "        for x in range(len(universe)):\n",
    "            cols_to_expand[x] = cols_to_expand[x] and universe[y][x] == '.'\n",
    "            if universe[y][x] == \"#\":\n",
    "                galaxies_coords.append((x, y))\n",
    "\n",
    "    coords = []\n",
    "    for coord_x, coord_y in galaxies_coords:\n",
    "        nb_empty_cols_before_galaxy = len(list(True for x in range(0, coord_x) if cols_to_expand[x]))\n",
    "        nb_empty_rows_before_galaxy = len(list(True for y in range(0, coord_y) if rows_to_expand[y]))\n",
    "        coords.append((coord_x + nb_empty_cols_before_galaxy * nb_expansions, coord_y + nb_empty_rows_before_galaxy * nb_expansions))\n",
    "    return coords\n",
    "\n",
    "real_coords_of_example_galaxies = get_real_coords_of_galaxies(example_universe)\n",
    "print(f\"The real coords of galaxies after expansion {real_coords_of_example_galaxies}\")"
   ]
  },
  {
   "cell_type": "markdown",
   "id": "ac8e00d2-b849-45db-bded-ddf28c9f8c33",
   "metadata": {},
   "source": [
    "## Calculates shortest distance between each galaxies"
   ]
  },
  {
   "cell_type": "code",
   "execution_count": 4,
   "id": "ec825eb7-62df-4bfb-b16e-bf9c4680dd95",
   "metadata": {},
   "outputs": [
    {
     "name": "stdout",
     "output_type": "stream",
     "text": [
      "374\n"
     ]
    }
   ],
   "source": [
    "def calculates_shortest_distance_between(coord1, coord2):\n",
    "    return abs(coord1[0] - coord2[0]) + abs(coord1[1] - coord2[1])\n",
    "\n",
    "def calculates_shortest_distance_between_each_galaxies(galaxies_coords):\n",
    "    shortest_distances = []\n",
    "    for i, galaxy_coords_1 in enumerate((galaxies_coords)):\n",
    "        for galaxy_coords_2 in galaxies_coords[i+1:]:\n",
    "            shortest_distances.append(calculates_shortest_distance_between(galaxy_coords_1, galaxy_coords_2))\n",
    "    return sum(shortest_distances)\n",
    "\n",
    "example_shortest_distance = calculates_shortest_distance_between_each_galaxies(real_coords_of_example_galaxies)\n",
    "print(example_shortest_distance)"
   ]
  },
  {
   "cell_type": "markdown",
   "id": "a65da239-182b-4ec7-9cd1-e29f97a9b0e4",
   "metadata": {},
   "source": [
    "## Resoling the first part"
   ]
  },
  {
   "cell_type": "code",
   "execution_count": 5,
   "id": "1b72c9d5-7172-435b-90c4-cc97722ad809",
   "metadata": {},
   "outputs": [
    {
     "name": "stdout",
     "output_type": "stream",
     "text": [
      "10313550\n",
      "CPU times: user 40.9 ms, sys: 4.37 ms, total: 45.3 ms\n",
      "Wall time: 43.9 ms\n"
     ]
    }
   ],
   "source": [
    "%%time\n",
    "real_galaxies_coords = get_real_coords_of_galaxies(universe)\n",
    "first_answer = calculates_shortest_distance_between_each_galaxies(real_galaxies_coords)\n",
    "print(first_answer)"
   ]
  },
  {
   "cell_type": "code",
   "execution_count": 6,
   "id": "258da737-5393-41d4-a307-eeaa87a1d251",
   "metadata": {},
   "outputs": [
    {
     "name": "stdout",
     "output_type": "stream",
     "text": [
      "aocd will not submit that answer again. At 2023-12-11 02:57:16.419390-05:00 you've previously submitted 10313550 and the server responded with:\n",
      "\u001b[32mThat's the right answer!  You are one gold star closer to restoring snow operations. [Continue to Part Two]\u001b[0m\n"
     ]
    }
   ],
   "source": [
    "submit_part_a(first_answer)"
   ]
  },
  {
   "cell_type": "markdown",
   "id": "6005b04b-033e-4fbb-8c63-9e53be2ee8b6",
   "metadata": {},
   "source": [
    "# Part 2\n",
    "## Calculate real coords of galaxies after universe expansion"
   ]
  },
  {
   "cell_type": "code",
   "execution_count": 7,
   "id": "8d4944b0-9d21-43d9-839e-250a7e3fafab",
   "metadata": {},
   "outputs": [
    {
     "name": "stdout",
     "output_type": "stream",
     "text": [
      "coords of galaxies without universe expansion [(3, 0), (7, 1), (0, 2), (6, 4), (1, 5), (9, 6), (7, 8), (0, 9), (4, 9)]\n",
      "coords of galaxies after 1 universe expansion [(4, 0), (9, 1), (0, 2), (8, 5), (1, 6), (12, 7), (9, 10), (0, 11), (5, 11)]\n",
      "coords of galaxies after 9 universe expansions [(12, 0), (25, 1), (0, 2), (24, 13), (1, 14), (36, 15), (25, 26), (0, 27), (13, 27)]\n",
      "coords of galaxies after 99 universe expansions [(12, 0), (25, 1), (0, 2), (24, 13), (1, 14), (36, 15), (25, 26), (0, 27), (13, 27)]\n"
     ]
    }
   ],
   "source": [
    "real_coords_of_example_galaxies_without_expansion = get_real_coords_of_galaxies(example_universe, 0)\n",
    "print(f\"coords of galaxies without universe expansion {real_coords_of_example_galaxies_without_expansion}\")\n",
    "\n",
    "real_coords_of_example_galaxies_after_1_expansion = get_real_coords_of_galaxies(example_universe, 1)\n",
    "print(f\"coords of galaxies after 1 universe expansion {real_coords_of_example_galaxies_after_1_expansion}\")\n",
    "\n",
    "real_coords_of_example_galaxies_after_9_expansions = get_real_coords_of_galaxies(example_universe, 9)\n",
    "print(f\"coords of galaxies after 9 universe expansions {real_coords_of_example_galaxies_after_9_expansions}\")\n",
    "\n",
    "real_coords_of_example_galaxies_after_99_expansions = get_real_coords_of_galaxies(example_universe, 99)\n",
    "print(f\"coords of galaxies after 99 universe expansions {real_coords_of_example_galaxies_after_9_expansions}\")"
   ]
  },
  {
   "cell_type": "markdown",
   "id": "2eeebbe6-5da3-4951-aa81-cc67bb98b5c0",
   "metadata": {},
   "source": [
    "## Calculate and Sum the shortest distances between galaxies"
   ]
  },
  {
   "cell_type": "code",
   "execution_count": 8,
   "id": "7dcb5946-d5e5-4b12-be5d-7ae7926d5737",
   "metadata": {},
   "outputs": [
    {
     "name": "stdout",
     "output_type": "stream",
     "text": [
      "Shortest distance after 1 expansion: 374\n",
      "Shortest distance after 9 expansions: 1030\n",
      "Shortest distance after 99 expansions: 8410\n"
     ]
    }
   ],
   "source": [
    "example_shortest_distance_after_1_expansion = calculates_shortest_distance_between_each_galaxies(real_coords_of_example_galaxies_after_1_expansion)\n",
    "print(f\"Shortest distance after 1 expansion: {example_shortest_distance_after_1_expansion}\")\n",
    "\n",
    "example_shortest_distance_after_9_expansions = calculates_shortest_distance_between_each_galaxies(real_coords_of_example_galaxies_after_9_expansions)\n",
    "print(f\"Shortest distance after 9 expansions: {example_shortest_distance_after_9_expansions}\")\n",
    "\n",
    "example_shortest_distance_after_99_expansions = calculates_shortest_distance_between_each_galaxies(real_coords_of_example_galaxies_after_99_expansions)\n",
    "print(f\"Shortest distance after 99 expansions: {example_shortest_distance_after_99_expansions}\")"
   ]
  },
  {
   "cell_type": "markdown",
   "id": "ab89c457-fb45-4d59-ac23-935526efd6fd",
   "metadata": {},
   "source": [
    "## Resoling the second part"
   ]
  },
  {
   "cell_type": "code",
   "execution_count": 9,
   "id": "78d21cea-0a14-41f7-8519-1679db0d1195",
   "metadata": {},
   "outputs": [
    {
     "name": "stdout",
     "output_type": "stream",
     "text": [
      "611998089572\n",
      "CPU times: user 48.3 ms, sys: 4.48 ms, total: 52.8 ms\n",
      "Wall time: 51.5 ms\n"
     ]
    }
   ],
   "source": [
    "%%time\n",
    "real_galaxies_coords = get_real_coords_of_galaxies(universe, nb_expansions=999_999)\n",
    "second_answer = calculates_shortest_distance_between_each_galaxies(real_galaxies_coords)\n",
    "print(second_answer)"
   ]
  },
  {
   "cell_type": "code",
   "execution_count": 10,
   "id": "73f43f8c-c0a8-4d69-8fdb-2848211c539a",
   "metadata": {},
   "outputs": [
    {
     "name": "stdout",
     "output_type": "stream",
     "text": [
      "aocd will not submit that answer again. At 2023-12-11 11:42:10.704429-05:00 you've previously submitted 611998089572 and the server responded with:\n",
      "\u001b[32mThat's the right answer!  You are one gold star closer to restoring snow operations.You have completed Day 11! You can [Shareon\n",
      "  Twitter\n",
      "Mastodon] this victory or [Return to Your Advent Calendar].\u001b[0m\n"
     ]
    }
   ],
   "source": [
    "submit_part_b(second_answer)"
   ]
  }
 ],
 "metadata": {
  "kernelspec": {
   "display_name": "Python 3 (ipykernel)",
   "language": "python",
   "name": "python3"
  },
  "language_info": {
   "codemirror_mode": {
    "name": "ipython",
    "version": 3
   },
   "file_extension": ".py",
   "mimetype": "text/x-python",
   "name": "python",
   "nbconvert_exporter": "python",
   "pygments_lexer": "ipython3",
   "version": "3.11.6"
  }
 },
 "nbformat": 4,
 "nbformat_minor": 5
}
