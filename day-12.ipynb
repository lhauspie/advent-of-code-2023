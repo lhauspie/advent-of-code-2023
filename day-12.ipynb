{
 "cells": [
  {
   "cell_type": "markdown",
   "id": "8c40430d-ed41-4b45-bac1-cce6f917da28",
   "metadata": {},
   "source": [
    "# Preparation"
   ]
  },
  {
   "cell_type": "code",
   "execution_count": 1,
   "id": "6a037a63-be42-4b83-8d30-1a4821390811",
   "metadata": {},
   "outputs": [],
   "source": [
    "from aocd import get_data\n",
    "from aocd import submit\n",
    "import unittest\n",
    "\n",
    "day = 12\n",
    "year = 2023\n",
    "\n",
    "def submit_part_a(answer):\n",
    "    submit(answer, part=\"a\", day=day, year=year)\n",
    "\n",
    "def submit_part_b(answer):\n",
    "    submit(answer, part=\"b\", day=day, year=year)\n",
    "\n",
    "input = get_data(day=day, year=year)"
   ]
  },
  {
   "cell_type": "code",
   "execution_count": 2,
   "id": "f7b2101b-5fe4-4271-83ba-aea30076c1a9",
   "metadata": {},
   "outputs": [],
   "source": [
    "lines = input.split('\\n')"
   ]
  },
  {
   "cell_type": "markdown",
   "id": "7870348c-4ecb-4a72-8ab0-1464094eaa77",
   "metadata": {},
   "source": [
    "# Part 1"
   ]
  },
  {
   "cell_type": "markdown",
   "id": "a424787b-7a96-493c-81c6-48caa6e08af8",
   "metadata": {},
   "source": [
    "## How to know an arrangement of `..#.##...###` is possible with groups `[1, 2, 3]`"
   ]
  },
  {
   "cell_type": "code",
   "execution_count": 3,
   "id": "8b419866-eb13-485f-8570-3c3d99d91a5f",
   "metadata": {},
   "outputs": [],
   "source": [
    "def is_arrangement_possible(springs, groups):\n",
    "    groups_present_in_spring = [len(s) for s in springs.split('.') if s != \"\"]\n",
    "    return groups_present_in_spring == groups\n",
    "\n",
    "assert is_arrangement_possible(\"....###\", [1, 1, 3]) == False\n",
    "assert is_arrangement_possible(\"##..###\", [1, 1, 3]) == False\n",
    "assert is_arrangement_possible(\"#.#.###\", [1, 1, 3]) == True\n",
    "assert is_arrangement_possible(\"##...##\", [2, 2]) == True\n",
    "assert is_arrangement_possible(\".##..##\", [2, 2]) == True\n",
    "assert is_arrangement_possible(\"..##.##\", [2, 2]) == True\n",
    "assert is_arrangement_possible(\"##...##\", [2, 2]) == True\n",
    "assert is_arrangement_possible(\"##..##.\", [2, 2]) == True\n",
    "assert is_arrangement_possible(\"##.##..\", [2, 2]) == True\n",
    "assert is_arrangement_possible(\".######\", [6]) == True\n",
    "assert is_arrangement_possible(\".######\", [5]) == False"
   ]
  },
  {
   "cell_type": "markdown",
   "id": "51e459b7-bdb8-4e30-b511-910d12ca2e29",
   "metadata": {},
   "source": [
    "## Counting possible arrangements for `??#.?#?????##` is possible with groups `[1, 2, 3]`"
   ]
  },
  {
   "cell_type": "code",
   "execution_count": 4,
   "id": "d2f7bd2f-9531-48da-9aec-b7daf69e15ec",
   "metadata": {},
   "outputs": [],
   "source": [
    "def count_arrangements(springs, groups):\n",
    "    new_springs = ''\n",
    "    if '?' in springs:\n",
    "        return count_arrangements(springs.replace('?', '#', 1), groups) + count_arrangements(springs.replace('?', '.', 1), groups)\n",
    "    if is_arrangement_possible(springs, groups):\n",
    "        return 1\n",
    "    else:\n",
    "        return 0\n",
    "\n",
    "assert count_arrangements(\"???.###\", [1,1,3]) == 1\n",
    "assert count_arrangements(\".??..??...?##.\", [1,1,3]) == 4\n",
    "assert count_arrangements(\"?#?#?#?#?#?#?#?\", [1,3,1,6]) == 1\n",
    "assert count_arrangements(\"????.#...#...\", [4,1,1]) == 1\n",
    "assert count_arrangements(\"????.######..#####.\", [1,6,5]) == 4\n",
    "assert count_arrangements(\"?###????????\", [3,2,1]) == 10"
   ]
  },
  {
   "cell_type": "markdown",
   "id": "479e37df-d0a5-4e4e-befa-99b8659aff64",
   "metadata": {},
   "source": [
    "## Resoling the first part"
   ]
  },
  {
   "cell_type": "code",
   "execution_count": 5,
   "id": "9e6d725b-3823-4155-a5bb-4504160b01bc",
   "metadata": {},
   "outputs": [
    {
     "name": "stdout",
     "output_type": "stream",
     "text": [
      "6852\n",
      "CPU times: user 15 s, sys: 5.88 ms, total: 15 s\n",
      "Wall time: 15 s\n"
     ]
    }
   ],
   "source": [
    "%%time\n",
    "first_answer = 0\n",
    "for l in lines:\n",
    "    springs, groups = l.split()\n",
    "    groups = [int(group) for group in groups.split(\",\")]\n",
    "    first_answer += count_arrangements(springs, groups)\n",
    "\n",
    "print(first_answer)"
   ]
  },
  {
   "cell_type": "code",
   "execution_count": 6,
   "id": "3f7c8a2e-14b9-4aec-aba4-6a984cd2519a",
   "metadata": {},
   "outputs": [
    {
     "name": "stdout",
     "output_type": "stream",
     "text": [
      "aocd will not submit that answer again. At 2023-12-12 02:18:25.653806-05:00 you've previously submitted 6852 and the server responded with:\n",
      "\u001b[32mThat's the right answer!  You are one gold star closer to restoring snow operations. [Continue to Part Two]\u001b[0m\n"
     ]
    }
   ],
   "source": [
    "submit_part_a(first_answer)"
   ]
  },
  {
   "cell_type": "markdown",
   "id": "3f703701-1b0e-4c92-a6a5-f86d8bc29b66",
   "metadata": {},
   "source": [
    "# Part 2"
   ]
  },
  {
   "cell_type": "markdown",
   "id": "61a31fe0-e5b8-42fc-b786-4d3d9414a660",
   "metadata": {},
   "source": [
    "## Avoiding brute force\n",
    "Because the first part took 20 sec to be resolved, I have to find another way to count possible arrangements."
   ]
  },
  {
   "cell_type": "code",
   "execution_count": 7,
   "id": "00bc29ff-e937-4b86-8228-8c2d064074bc",
   "metadata": {},
   "outputs": [],
   "source": [
    "memoized = dict()\n",
    "def memoized_count_arrangements(springs, groups):\n",
    "    memoized_key = (springs, tuple(groups))\n",
    "    if memoized_key not in memoized:\n",
    "        memoized[memoized_key] = count_arrangements(springs, groups)\n",
    "    return memoized[memoized_key]\n",
    "    \n",
    "def count_arrangements(springs, groups):\n",
    "    count = 0\n",
    "    # Break conditions of the recursive function\n",
    "    # No more groups to put\n",
    "    if not groups:\n",
    "        # No more spring to complete with a group\n",
    "        if '#' not in springs:\n",
    "            # No more spring to complete with a group and no more groups remaining, it's a valid possibility, so return 1\n",
    "            return 1\n",
    "        # It remains a spring to complete but no more group to complete it, it's an invalid possibility, so return 0\n",
    "        return 0\n",
    "    \n",
    "    # Not enough space to put the first group\n",
    "    if len(springs) < groups[0]:\n",
    "        # First group need {groups[0]} spaces but only {len(springs)} spaces remaining, it's an invalid possibility, so return 0\n",
    "        return 0\n",
    "\n",
    "    first_group = groups[0]\n",
    "    # No '.' is in the first potential group, this means there is enough place to put the group here\n",
    "    if \".\" not in springs[:first_group]:\n",
    "        # The springs have the same length than the group, so it's a valid possibility, so keep counting\n",
    "        # The first spring after the first group is not a '#', so it's a valid possibility, so keep counting\n",
    "        if len(springs) == first_group or springs[first_group] != \"#\":\n",
    "            # Count the rest like if we put the first_group at the begining => removing {first_group+1} first springs and the first group {groups[0]}\n",
    "            count += memoized_count_arrangements(springs[first_group+1:], groups[1:])\n",
    "\n",
    "    if springs[0] != \"#\":\n",
    "        # Count the rest like if we choose to not put the first_group at the begining => removing first spring\n",
    "        count += memoized_count_arrangements(springs[1:], groups)\n",
    "\n",
    "    return count\n",
    "\n",
    "\n",
    "assert count_arrangements(\"?\", [1]) == 1\n",
    "assert count_arrangements(\"??\", [1]) == 2\n",
    "assert count_arrangements(\"???\", [1]) == 3\n",
    "assert count_arrangements(\"???\", [1, 1]) == 1\n",
    "assert count_arrangements(\"?#?\", [1]) == 1\n",
    "\n",
    "assert count_arrangements(\"???.###\", [1,1,3]) == 1\n",
    "assert count_arrangements(\".??..??...?##.\", [1,1,3]) == 4\n",
    "assert count_arrangements(\"?#?#?#?#?#?#?#?\", [1,3,1,6]) == 1\n",
    "assert count_arrangements(\"????.#...#...\", [4,1,1]) == 1\n",
    "assert count_arrangements(\"????.######..#####.\", [1,6,5]) == 4\n",
    "assert count_arrangements(\"?###????????\", [3,2,1]) == 10\n",
    "\n",
    "assert count_arrangements(\"???.###????.###????.###????.###????.###\", [1,1,3,1,1,3,1,1,3,1,1,3,1,1,3]) == 1\n",
    "assert count_arrangements(\".??..??...?##.?.??..??...?##.?.??..??...?##.?.??..??...?##.?.??..??...?##.\", [1,1,3,1,1,3,1,1,3,1,1,3,1,1,3]) == 16384\n",
    "assert count_arrangements(\"?#?#?#?#?#?#?#???#?#?#?#?#?#?#???#?#?#?#?#?#?#???#?#?#?#?#?#?#???#?#?#?#?#?#?#?\", [1,3,1,6,1,3,1,6,1,3,1,6,1,3,1,6,1,3,1,6]) == 1\n",
    "assert count_arrangements(\"????.#...#...?????.#...#...?????.#...#...?????.#...#...?????.#...#...\", [4,1,1,4,1,1,4,1,1,4,1,1,4,1,1]) == 16\n",
    "assert count_arrangements(\"????.######..#####.?????.######..#####.?????.######..#####.?????.######..#####.?????.######..#####.\", [1,6,5,1,6,5,1,6,5,1,6,5,1,6,5]) == 2500\n",
    "assert count_arrangements(\"?###??????????###??????????###??????????###??????????###????????\", [3,2,1,3,2,1,3,2,1,3,2,1,3,2,1]) == 506250"
   ]
  },
  {
   "cell_type": "markdown",
   "id": "2cae930a-24e2-4103-9501-bf171f1f17f0",
   "metadata": {},
   "source": [
    "## Resoling the second part"
   ]
  },
  {
   "cell_type": "code",
   "execution_count": 8,
   "id": "d29b7e50-615d-42d0-92f9-cbe0110a214c",
   "metadata": {},
   "outputs": [
    {
     "name": "stdout",
     "output_type": "stream",
     "text": [
      "8475948826693\n",
      "CPU times: user 802 ms, sys: 119 ms, total: 922 ms\n",
      "Wall time: 928 ms\n"
     ]
    }
   ],
   "source": [
    "%%time\n",
    "second_answer = 0\n",
    "for l in lines:\n",
    "    springs, groups = l.split()\n",
    "    groups = [int(group) for group in groups.split(\",\")]\n",
    "    second_answer += count_arrangements((5 * (springs + '?'))[:-1], 5 * groups)\n",
    "\n",
    "print(second_answer)"
   ]
  },
  {
   "cell_type": "code",
   "execution_count": 9,
   "id": "3097ff75-430e-43a4-b6e2-13940d7f77cd",
   "metadata": {},
   "outputs": [
    {
     "name": "stdout",
     "output_type": "stream",
     "text": [
      "aocd will not submit that answer again. At 2023-12-12 16:46:36.088424-05:00 you've previously submitted 8475948826693 and the server responded with:\n",
      "\u001b[32mThat's the right answer!  You are one gold star closer to restoring snow operations.You have completed Day 12! You can [Shareon\n",
      "  Twitter\n",
      "Mastodon] this victory or [Return to Your Advent Calendar].\u001b[0m\n"
     ]
    }
   ],
   "source": [
    "submit_part_b(second_answer)"
   ]
  }
 ],
 "metadata": {
  "kernelspec": {
   "display_name": "Python 3 (ipykernel)",
   "language": "python",
   "name": "python3"
  },
  "language_info": {
   "codemirror_mode": {
    "name": "ipython",
    "version": 3
   },
   "file_extension": ".py",
   "mimetype": "text/x-python",
   "name": "python",
   "nbconvert_exporter": "python",
   "pygments_lexer": "ipython3",
   "version": "3.11.6"
  }
 },
 "nbformat": 4,
 "nbformat_minor": 5
}
