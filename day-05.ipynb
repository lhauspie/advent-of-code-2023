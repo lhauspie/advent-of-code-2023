{
 "cells": [
  {
   "cell_type": "code",
   "execution_count": 1,
   "id": "6c31577a-afff-47e8-9efc-d20fb4b7ffd5",
   "metadata": {},
   "outputs": [],
   "source": [
    "from aocd import get_data\n",
    "from aocd import submit\n",
    "import unittest\n",
    "\n",
    "day = 5\n",
    "year = 2023\n",
    "\n",
    "def submit_part_a(answer):\n",
    "    submit(answer, part=\"a\", day=day, year=year)\n",
    "\n",
    "def submit_part_b(answer):\n",
    "    submit(answer, part=\"b\", day=day, year=year)\n",
    "\n",
    "input = get_data(day=day, year=year)"
   ]
  },
  {
   "cell_type": "code",
   "execution_count": 2,
   "id": "e5c03132-af08-49c6-8187-4db2b579a21d",
   "metadata": {},
   "outputs": [],
   "source": [
    "class MapLine:\n",
    "    def __init__(self, start_including, end_including, step):\n",
    "        self.start_including = start_including\n",
    "        self.end_including = end_including\n",
    "        self.step = step\n",
    "\n",
    "    def map_from_source(self, source):\n",
    "        if self.is_source_in_range(source):\n",
    "            return source + self.step\n",
    "        return None\n",
    "\n",
    "    def is_source_in_range(self, source):\n",
    "        return self.start_including <= source <= self.end_including\n",
    "\n",
    "    def map_from_source_range(self, source_range):\n",
    "        start, end = source_range\n",
    "        return (start + self.step, end + self.step)\n",
    "\n",
    "    @staticmethod    \n",
    "    def parse(line):\n",
    "        destination, source, range_size = [int(value) for value in line.split(\" \")]\n",
    "        return MapLine(source, source + range_size - 1, destination - source)"
   ]
  },
  {
   "cell_type": "code",
   "execution_count": 3,
   "id": "f3ab8072-253d-483b-bbfc-2dc5f87a3293",
   "metadata": {},
   "outputs": [
    {
     "name": "stderr",
     "output_type": "stream",
     "text": [
      "test_map_from_source_1 (__main__.MapLineTest.test_map_from_source_1) ... ok\n",
      "test_map_from_source_range_1 (__main__.MapLineTest.test_map_from_source_range_1) ... ok\n",
      "test_parse_1 (__main__.MapLineTest.test_parse_1) ... ok\n",
      "\n",
      "----------------------------------------------------------------------\n",
      "Ran 3 tests in 0.010s\n",
      "\n",
      "OK\n"
     ]
    }
   ],
   "source": [
    "class MapLineTest(unittest.TestCase):\n",
    "    def test_parse_1(self):\n",
    "        mapLine = MapLine.parse(\"50 98 2\")\n",
    "        self.assertEqual(mapLine.start_including, 98)\n",
    "        self.assertEqual(mapLine.end_including, 99)\n",
    "        self.assertEqual(mapLine.step, -48)\n",
    "        \n",
    "    def test_map_from_source_1(self):\n",
    "        mapLine = MapLine.parse(\"50 98 2\")\n",
    "        self.assertEqual(mapLine.map_from_source(97), None)\n",
    "        self.assertEqual(mapLine.map_from_source(98), 50)\n",
    "        self.assertEqual(mapLine.map_from_source(99), 51)\n",
    "        self.assertEqual(mapLine.map_from_source(100), None)\n",
    "        \n",
    "    def test_map_from_source_range_1(self):\n",
    "        mapLine = MapLine.parse(\"50 98 2\")\n",
    "        self.assertEqual(mapLine.map_from_source_range((97, 110)), (49, 62))\n",
    "        self.assertEqual(mapLine.map_from_source_range((48, 148)), (0, 100))\n",
    "        self.assertEqual(mapLine.map_from_source_range((99, 99)), (51, 51))\n",
    "        self.assertEqual(mapLine.map_from_source_range((100, 200)), (52, 152))\n",
    "        \n",
    "\n",
    "runner = unittest.TextTestRunner(verbosity=3)\n",
    "res = runner.run(unittest.TestLoader().loadTestsFromTestCase(MapLineTest)) \n",
    "assert len(res.failures) == 0"
   ]
  },
  {
   "cell_type": "code",
   "execution_count": 4,
   "id": "51e192fb-fb3e-4883-bf3c-024e822d18b4",
   "metadata": {},
   "outputs": [],
   "source": [
    "class Map:\n",
    "    def __init__(self, map_lines):\n",
    "        self.map_lines = map_lines\n",
    "\n",
    "    def map_from_source(self, source):\n",
    "        for map_line in self.map_lines:\n",
    "            if map_line.is_source_in_range(source):\n",
    "                return map_line.map_from_source(source)\n",
    "        return source\n",
    "\n",
    "    # Will produce a list of ranges after spliting and mapping\n",
    "    def map_from_source_ranges(self, source_ranges):\n",
    "        # Sort input source_ranges order by start then end\n",
    "        source_ranges = sorted(source_ranges)\n",
    "        \n",
    "        # Sort map_lines of map order by start asc\n",
    "        self.map_lines.sort(key=lambda map_line: map_line.start_including)\n",
    "\n",
    "        # Prepare Iterators\n",
    "        source_range_iter = iter(source_ranges)\n",
    "        map_line_iter = iter(self.map_lines)\n",
    "        \n",
    "        target_ranges = []\n",
    "        # While there is item in the source_ranges list\n",
    "        current_source_range = next(source_range_iter, None)\n",
    "        current_map_line = next(map_line_iter, None)\n",
    "        while current_source_range != None:\n",
    "            start_including, end_including = current_source_range\n",
    "\n",
    "            # current_source_range is completely before the map_line range\n",
    "            # OR no more map_line range to deal with\n",
    "            if current_map_line == None or end_including < current_map_line.start_including:\n",
    "                target_ranges.append((start_including, end_including))\n",
    "                current_source_range = next(source_range_iter, None)\n",
    "                continue\n",
    "                \n",
    "            # current_source_range is completely after the map_line range\n",
    "            if current_map_line.end_including < start_including:\n",
    "                current_map_line = next(map_line_iter, None)\n",
    "                continue\n",
    "\n",
    "            # Here we know there is a possible intersection between current_source_range and current_map_line range\n",
    "            # source_start is before the map_line range (and known from previsous conditions: source_end is after current_map_line start)\n",
    "            if start_including < current_map_line.start_including:\n",
    "                target_ranges.append((start_including, current_map_line.start_including - 1))\n",
    "                # This line bellow allow to reach the next condition\n",
    "                current_source_range = (current_map_line.start_including, end_including)\n",
    "                continue\n",
    "                \n",
    "            # source_start is inside the map_line range\n",
    "            if current_map_line.start_including <= start_including <= current_map_line.end_including:\n",
    "                target_ranges.append(current_map_line.map_from_source_range((start_including, min(end_including, current_map_line.end_including))))\n",
    "                # Have we done work for this source_range ?\n",
    "                if end_including <= current_map_line.end_including:\n",
    "                    current_source_range = next(source_range_iter, None)\n",
    "                else:\n",
    "                    current_source_range = (min(end_including, current_map_line.end_including) + 1, end_including)\n",
    "        \n",
    "        return target_ranges\n",
    "\n",
    "    @staticmethod\n",
    "    def parse(lines):\n",
    "        map_lines = []\n",
    "        for l in lines:\n",
    "            map_lines.append(MapLine.parse(l))\n",
    "        return Map(map_lines)"
   ]
  },
  {
   "cell_type": "code",
   "execution_count": 5,
   "id": "8d8231c7-d3ae-42b2-86b8-c9ecf3ca121a",
   "metadata": {},
   "outputs": [
    {
     "name": "stderr",
     "output_type": "stream",
     "text": [
      "test_map_from_source_1 (__main__.MapTest.test_map_from_source_1) ... ok\n",
      "test_map_from_source_ranges_1 (__main__.MapTest.test_map_from_source_ranges_1) ... ok\n",
      "test_map_from_source_ranges_2 (__main__.MapTest.test_map_from_source_ranges_2) ... ok\n",
      "test_map_from_source_ranges_3 (__main__.MapTest.test_map_from_source_ranges_3) ... ok\n",
      "test_map_from_source_ranges_4 (__main__.MapTest.test_map_from_source_ranges_4) ... ok\n",
      "test_map_from_source_ranges_5 (__main__.MapTest.test_map_from_source_ranges_5) ... ok\n",
      "test_map_from_source_ranges_6 (__main__.MapTest.test_map_from_source_ranges_6) ... ok\n",
      "\n",
      "----------------------------------------------------------------------\n",
      "Ran 7 tests in 0.025s\n",
      "\n",
      "OK\n"
     ]
    }
   ],
   "source": [
    "class MapTest(unittest.TestCase):\n",
    "    def test_map_from_source_1(self):\n",
    "        map = Map.parse([\"50 98 2\", \"52 50 48\"])\n",
    "        self.assertEqual(map.map_from_source(10), 10)\n",
    "        self.assertEqual(map.map_from_source(98), 50)\n",
    "        self.assertEqual(map.map_from_source(50), 52)\n",
    "        self.assertEqual(map.map_from_source(90), 92)\n",
    "        self.assertEqual(map.map_from_source(100), 100)\n",
    "        \n",
    "    def test_map_from_source_ranges_1(self):\n",
    "        map = Map.parse([\"50 98 2\", \"52 50 48\"])\n",
    "        self.assertEqual(map.map_from_source_ranges([(79, 92), (55, 67)]), [(57, 69), (81, 94)])\n",
    "        \n",
    "    def test_map_from_source_ranges_2(self):\n",
    "        map = Map.parse([\"0 15 37\", \"37 52 2\", \"39 0 15\"])\n",
    "        self.assertEqual(map.map_from_source_ranges([(57, 69), (81, 94)]), [(57, 69), (81, 94)])\n",
    "        \n",
    "    def test_map_from_source_ranges_3(self):\n",
    "        map = Map.parse([\"88 18 7\", \"18 25 70\"])\n",
    "        self.assertEqual(map.map_from_source_ranges([(57, 69), (81, 94)]), [(50, 62), (74, 87)])\n",
    "        \n",
    "    def test_map_from_source_ranges_4(self):\n",
    "        map = Map.parse([\"45 77 23\", \"81 45 19\", \"68 64 13\"])\n",
    "        self.assertEqual(map.map_from_source_ranges([(50, 62), (74, 87)]), [(86, 98), (78, 80), (45, 55)])\n",
    "        \n",
    "    def test_map_from_source_ranges_5(self):\n",
    "        map = Map.parse([\"0 69 1\", \"1 0 69\"])\n",
    "        self.assertEqual(map.map_from_source_ranges([(86, 98), (78, 80), (45, 55)]), [(46, 56), (78, 80), (86, 98)])\n",
    "        \n",
    "    def test_map_from_source_ranges_6(self):\n",
    "        map = Map.parse([\"60 56 37\", \"56 93 4\"])\n",
    "        self.assertEqual(map.map_from_source_ranges([(46, 56), (78, 80), (86, 98)]), [(46, 55), (60, 60), (82, 84), (90, 96), (56, 59), (97, 98)])\n",
    "        \n",
    "\n",
    "runner = unittest.TextTestRunner(verbosity=3)\n",
    "res = runner.run(unittest.TestLoader().loadTestsFromTestCase(MapTest)) \n",
    "assert len(res.failures) == 0"
   ]
  },
  {
   "cell_type": "code",
   "execution_count": 6,
   "id": "2e8b054c-224e-41b8-bad5-c0885269c7e8",
   "metadata": {},
   "outputs": [],
   "source": [
    "class Almanac:\n",
    "    def __init__(self, seeds, seed_ranges, maps):\n",
    "        self.maps = maps\n",
    "        self.seeds = seeds\n",
    "        self.seed_ranges = seed_ranges\n",
    "\n",
    "    def get_locations(self):\n",
    "        locations = []\n",
    "        for seed in self.seeds:\n",
    "            current_seed_value = seed\n",
    "            for m in self.maps:\n",
    "                current_seed_value = m.map_from_source(current_seed_value)\n",
    "            locations.append(current_seed_value)\n",
    "        return locations\n",
    "        \n",
    "    def get_location_ranges(self):\n",
    "        ranges = self.seed_ranges\n",
    "        for m in self.maps:\n",
    "            ranges = m.map_from_source_ranges(ranges)\n",
    "        return ranges\n",
    "        \n",
    "    @staticmethod\n",
    "    def parse(lines):\n",
    "        seeds = [int(seed) for seed in lines[0].replace(\"seeds: \", \"\").split(\" \")]\n",
    "        seed_ranges = sorted([(seed_range[0], seed_range[0] + seed_range[1] - 1) for seed_range in zip(seeds[::2], seeds[1::2])])\n",
    "        \n",
    "        maps = []\n",
    "        map_lines = []\n",
    "        # lines[2:] means we don't want to deal with the 2 first lines of the almanac to build maps\n",
    "        for l in lines[2:]:\n",
    "            if l == \"\": # manage new map\n",
    "                maps.append(Map.parse(map_lines))\n",
    "            elif l.endswith(\"map:\"):\n",
    "                map_lines = []\n",
    "            elif l[0].isdigit:\n",
    "                map_lines.append(l)\n",
    "        # manage last map\n",
    "        maps.append(Map.parse(map_lines))\n",
    "        return Almanac(seeds, seed_ranges, maps)"
   ]
  },
  {
   "cell_type": "code",
   "execution_count": 7,
   "id": "04418eff-9ec8-4a59-be02-98da91cb6e54",
   "metadata": {},
   "outputs": [
    {
     "name": "stderr",
     "output_type": "stream",
     "text": [
      "test_build_maps_1 (__main__.AlmanacTest.test_build_maps_1) ... ok\n",
      "test_get_location_ranges (__main__.AlmanacTest.test_get_location_ranges) ... ok\n",
      "\n",
      "----------------------------------------------------------------------\n",
      "Ran 2 tests in 0.006s\n",
      "\n",
      "OK\n"
     ]
    }
   ],
   "source": [
    "class AlmanacTest(unittest.TestCase):\n",
    "    lines = [\n",
    "        \"seeds: 79 14 55 13\"\n",
    "        \"\",\n",
    "        \"seed-to-soil map:\",\n",
    "        \"50 98 2\",\n",
    "        \"52 50 48\",\n",
    "        \"\",\n",
    "        \"soil-to-fertilizer map:\",\n",
    "        \"0 15 37\",\n",
    "        \"37 52 2\",\n",
    "        \"39 0 15\",\n",
    "        \"\",\n",
    "        \"fertilizer-to-water map:\",\n",
    "        \"49 53 8\",\n",
    "        \"0 11 42\",\n",
    "        \"42 0 7\",\n",
    "        \"57 7 4\",\n",
    "        \"\",\n",
    "        \"water-to-light map:\",\n",
    "        \"88 18 7\",\n",
    "        \"18 25 70\",\n",
    "        \"\",\n",
    "        \"light-to-temperature map:\",\n",
    "        \"45 77 23\",\n",
    "        \"81 45 19\",\n",
    "        \"68 64 13\",\n",
    "        \"\",\n",
    "        \"temperature-to-humidity map:\",\n",
    "        \"0 69 1\",\n",
    "        \"1 0 69\",\n",
    "        \"\",\n",
    "        \"humidity-to-location map:\",\n",
    "        \"60 56 37\",\n",
    "        \"56 93 4\"\n",
    "    ]\n",
    "\n",
    "    def test_build_maps_1(self):\n",
    "        almanac = Almanac.parse(self.lines)\n",
    "        self.assertEqual(len(almanac.maps), 7)\n",
    "        self.assertEqual(almanac.maps[0].map_from_source(79), 81)\n",
    "        self.assertEqual(almanac.maps[0].map_from_source(14), 14)\n",
    "        self.assertEqual(almanac.maps[0].map_from_source(55), 57)\n",
    "        self.assertEqual(almanac.maps[0].map_from_source(13), 13)\n",
    "\n",
    "    def test_get_location_ranges(self):\n",
    "        almanac = Almanac.parse(self.lines)\n",
    "        self.assertEqual(almanac.get_location_ranges(), [(46, 55), (60, 60), (82, 84), (86, 89), (94, 96), (56, 59), (97, 98)])\n",
    "\n",
    "\n",
    "runner = unittest.TextTestRunner(verbosity=3)\n",
    "res = runner.run(unittest.TestLoader().loadTestsFromTestCase(AlmanacTest)) \n",
    "assert len(res.failures) == 0"
   ]
  },
  {
   "cell_type": "code",
   "execution_count": 8,
   "id": "2dc2bdcf-ce64-46de-abb4-06ec779197bc",
   "metadata": {},
   "outputs": [
    {
     "name": "stdout",
     "output_type": "stream",
     "text": [
      "551761867\n",
      "CPU times: user 1.26 ms, sys: 56 µs, total: 1.32 ms\n",
      "Wall time: 1.34 ms\n"
     ]
    }
   ],
   "source": [
    "%%time\n",
    "almanac = Almanac.parse(input.split(\"\\n\"))\n",
    "first_answer = min(almanac.get_locations())\n",
    "print(first_answer)"
   ]
  },
  {
   "cell_type": "code",
   "execution_count": 9,
   "id": "6a11804e-23ec-4a21-985a-613f81a340fc",
   "metadata": {},
   "outputs": [
    {
     "name": "stdout",
     "output_type": "stream",
     "text": [
      "aocd will not submit that answer again. At 2023-12-05 03:00:29.616248-05:00 you've previously submitted 551761867 and the server responded with:\n",
      "\u001b[32mThat's the right answer!  You are one gold star closer to restoring snow operations. [Continue to Part Two]\u001b[0m\n"
     ]
    }
   ],
   "source": [
    "submit_part_a(first_answer)"
   ]
  },
  {
   "cell_type": "code",
   "execution_count": 10,
   "id": "ed9242d7-a1f8-4098-b3da-02deb5fc6cb3",
   "metadata": {},
   "outputs": [
    {
     "name": "stdout",
     "output_type": "stream",
     "text": [
      "57451709\n",
      "CPU times: user 2.24 ms, sys: 48 µs, total: 2.29 ms\n",
      "Wall time: 2.32 ms\n"
     ]
    }
   ],
   "source": [
    "%%time\n",
    "almanac = Almanac.parse(input.split(\"\\n\"))\n",
    "second_answer = min(almanac.get_location_ranges())[0]\n",
    "print(second_answer)"
   ]
  },
  {
   "cell_type": "code",
   "execution_count": 11,
   "id": "b3142f87-3b90-4a25-a37e-12c4385af7d7",
   "metadata": {},
   "outputs": [
    {
     "name": "stdout",
     "output_type": "stream",
     "text": [
      "aocd will not submit that answer again. At 2023-12-05 16:38:37.495913-05:00 you've previously submitted 57451709 and the server responded with:\n",
      "\u001b[32mThat's the right answer!  You are one gold star closer to restoring snow operations.You have completed Day 5! You can [Shareon\n",
      "  Twitter\n",
      "Mastodon] this victory or [Return to Your Advent Calendar].\u001b[0m\n"
     ]
    }
   ],
   "source": [
    "submit_part_b(second_answer)"
   ]
  }
 ],
 "metadata": {
  "kernelspec": {
   "display_name": "Python 3 (ipykernel)",
   "language": "python",
   "name": "python3"
  },
  "language_info": {
   "codemirror_mode": {
    "name": "ipython",
    "version": 3
   },
   "file_extension": ".py",
   "mimetype": "text/x-python",
   "name": "python",
   "nbconvert_exporter": "python",
   "pygments_lexer": "ipython3",
   "version": "3.11.6"
  }
 },
 "nbformat": 4,
 "nbformat_minor": 5
}
