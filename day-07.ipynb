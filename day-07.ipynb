{
 "cells": [
  {
   "cell_type": "code",
   "execution_count": 1,
   "id": "db5bf6a1-75cf-41b4-b6cc-7c7054f8d610",
   "metadata": {},
   "outputs": [],
   "source": [
    "from aocd import get_data\n",
    "from aocd import submit\n",
    "import unittest\n",
    "\n",
    "day = 7\n",
    "year = 2023\n",
    "\n",
    "def submit_part_a(answer):\n",
    "    submit(answer, part=\"a\", day=day, year=year)\n",
    "\n",
    "def submit_part_b(answer):\n",
    "    submit(answer, part=\"b\", day=day, year=year)\n",
    "\n",
    "input = get_data(day=day, year=year)"
   ]
  },
  {
   "cell_type": "code",
   "execution_count": 2,
   "id": "577284c1-bedc-4796-b5c2-fb5ad8bfa3c0",
   "metadata": {},
   "outputs": [],
   "source": [
    "lines = input.split(\"\\n\")"
   ]
  },
  {
   "cell_type": "code",
   "execution_count": 3,
   "id": "4b90cfcd-1fbf-4d97-8d22-fe43f9c1d83a",
   "metadata": {},
   "outputs": [],
   "source": [
    "from enum import Enum\n",
    "\n",
    "class HandType(Enum):\n",
    "    FIVE_OF_A_KIND  = 7\n",
    "    FOUR_OF_A_KIND  = 6\n",
    "    FULL_HOUSE      = 5\n",
    "    THREE_OF_A_KIND = 4\n",
    "    TWO_PAIRS       = 3\n",
    "    ONE_PAIR        = 2\n",
    "    HIGH_CARD       = 1\n",
    "\n",
    "class Hand:\n",
    "    card_values_map = {\n",
    "        '2' : 2,\n",
    "        '3' : 3,\n",
    "        '4' : 4,\n",
    "        '5' : 5,\n",
    "        '6' : 6,\n",
    "        '7' : 7,\n",
    "        '8' : 8,\n",
    "        '9' : 9,\n",
    "        'T' : 10,\n",
    "        'J' : 11,\n",
    "        'Q' : 12,\n",
    "        'K' : 13,\n",
    "        'A' : 14\n",
    "    }\n",
    "\n",
    "    card_values_map_with_jocker = {\n",
    "        'J' : 1,\n",
    "        '2' : 2,\n",
    "        '3' : 3,\n",
    "        '4' : 4,\n",
    "        '5' : 5,\n",
    "        '6' : 6,\n",
    "        '7' : 7,\n",
    "        '8' : 8,\n",
    "        '9' : 9,\n",
    "        'T' : 10,\n",
    "        'Q' : 12,\n",
    "        'K' : 13,\n",
    "        'A' : 14\n",
    "    }\n",
    "\n",
    "    def __init__(self, cards, bid):\n",
    "        self.cards = cards\n",
    "        self.bid = bid\n",
    "\n",
    "    def define_nb_cards_from_cards(self, cards):\n",
    "        unique_cards = set(cards)\n",
    "        return sorted([cards.count(card) for card in unique_cards], reverse = True)\n",
    "    \n",
    "    def define_type_form_nb_cards(self, nb_cards):        \n",
    "        if nb_cards == [1, 1, 1, 1, 1]:\n",
    "            return HandType.HIGH_CARD\n",
    "        if nb_cards == [2, 1, 1, 1]:\n",
    "            return HandType.ONE_PAIR\n",
    "        if nb_cards == [3, 1, 1]:\n",
    "            return HandType.THREE_OF_A_KIND\n",
    "        if nb_cards == [4, 1]:\n",
    "            return HandType.FOUR_OF_A_KIND\n",
    "        if nb_cards == [5]:\n",
    "            return HandType.FIVE_OF_A_KIND\n",
    "        if nb_cards == [2, 2, 1]:\n",
    "            return HandType.TWO_PAIRS\n",
    "        if nb_cards == [3, 2]:\n",
    "            return HandType.FULL_HOUSE\n",
    "\n",
    "    def define_type(self):\n",
    "        nb_cards = self.define_nb_cards_from_cards(self.cards)\n",
    "        return self.define_type_form_nb_cards(nb_cards)\n",
    "\n",
    "    def define_type_with_joker(self):\n",
    "        nb_cards = self.define_nb_cards_from_cards(self.cards.replace(\"J\", \"\"))\n",
    "        if nb_cards == []:\n",
    "            # case we have 5 joker\n",
    "            nb_cards = [5]\n",
    "        else:\n",
    "            # Joker is here to enforce a strong combination of same card not a weak one\n",
    "            nb_cards[0] += self.cards.count(\"J\")\n",
    "        return self.define_type_form_nb_cards(nb_cards)\n",
    "        \n",
    "    def comparison_key(self):\n",
    "        return (self.define_type().value,) + tuple(Hand.card_values_map[card] for card in self.cards)\n",
    "\n",
    "    def comparison_key_with_joker(self):\n",
    "        return (self.define_type_with_joker().value,) + tuple(Hand.card_values_map_with_jocker[card] for card in self.cards)\n",
    "\n",
    "    @staticmethod\n",
    "    def parse(line):\n",
    "        cards, bid = line.split()\n",
    "        return Hand(cards, int(bid))"
   ]
  },
  {
   "cell_type": "code",
   "execution_count": 4,
   "id": "aad4ff3f-8d80-4a05-91fa-270ae3b99f79",
   "metadata": {},
   "outputs": [
    {
     "name": "stderr",
     "output_type": "stream",
     "text": [
      "test_comparison_key_1 (__main__.HandTest.test_comparison_key_1) ... ok\n",
      "test_comparison_key_with_joker_1 (__main__.HandTest.test_comparison_key_with_joker_1) ... ok\n",
      "test_comparison_key_with_joker_2 (__main__.HandTest.test_comparison_key_with_joker_2) ... ok\n",
      "test_define_type_1 (__main__.HandTest.test_define_type_1) ... ok\n",
      "test_define_type_2 (__main__.HandTest.test_define_type_2) ... ok\n",
      "test_define_type_3 (__main__.HandTest.test_define_type_3) ... ok\n",
      "test_define_type_4 (__main__.HandTest.test_define_type_4) ... ok\n",
      "test_define_type_5 (__main__.HandTest.test_define_type_5) ... ok\n",
      "test_define_type_6 (__main__.HandTest.test_define_type_6) ... ok\n",
      "test_define_type_with_joker_1 (__main__.HandTest.test_define_type_with_joker_1) ... ok\n",
      "test_parse_1 (__main__.HandTest.test_parse_1) ... ok\n",
      "\n",
      "----------------------------------------------------------------------\n",
      "Ran 11 tests in 0.040s\n",
      "\n",
      "OK\n"
     ]
    }
   ],
   "source": [
    "class HandTest(unittest.TestCase):\n",
    "    def test_parse_1(self):\n",
    "        hand = Hand.parse(\"KKKKK 8765\")\n",
    "        self.assertEqual(hand.cards, \"KKKKK\")\n",
    "        self.assertEqual(hand.bid, 8765)\n",
    "\n",
    "    def test_define_type_1(self):\n",
    "        hand = Hand.parse(\"3KTQ9 8765\")\n",
    "        self.assertEqual(hand.define_type(), HandType.HIGH_CARD)\n",
    "\n",
    "    def test_define_type_2(self):\n",
    "        hand = Hand.parse(\"3KTQK 8765\")\n",
    "        self.assertEqual(hand.define_type(), HandType.ONE_PAIR)\n",
    "\n",
    "    def test_define_type_3(self):\n",
    "        hand = Hand.parse(\"KTKQK 8765\")\n",
    "        self.assertEqual(hand.define_type(), HandType.THREE_OF_A_KIND)\n",
    "\n",
    "    def test_define_type_4(self):\n",
    "        hand = Hand.parse(\"KTKKK 8765\")\n",
    "        self.assertEqual(hand.define_type(), HandType.FOUR_OF_A_KIND)\n",
    "\n",
    "    def test_define_type_5(self):\n",
    "        hand = Hand.parse(\"KKKKK 8765\")\n",
    "        self.assertEqual(hand.define_type(), HandType.FIVE_OF_A_KIND)\n",
    "\n",
    "    def test_define_type_6(self):\n",
    "        hand = Hand.parse(\"KQTQK 8765\")\n",
    "        self.assertEqual(hand.define_type(), HandType.TWO_PAIRS)\n",
    "\n",
    "    def test_define_type_with_joker_1(self):\n",
    "        hand = Hand.parse(\"KKJKK 8765\")\n",
    "        self.assertEqual(hand.define_type_with_joker(), HandType.FIVE_OF_A_KIND)\n",
    "\n",
    "    def test_comparison_key_1(self):\n",
    "        hand = Hand.parse(\"KKJKK 8765\")\n",
    "        self.assertEqual(hand.comparison_key(), (HandType.FOUR_OF_A_KIND.value, 13, 13, 11, 13, 13))\n",
    "        \n",
    "    def test_comparison_key_with_joker_1(self):\n",
    "        hand = Hand.parse(\"KKJKK 8765\")\n",
    "        self.assertEqual(hand.comparison_key_with_joker(), (HandType.FIVE_OF_A_KIND.value, 13, 13, 1, 13, 13))\n",
    "        \n",
    "    def test_comparison_key_with_joker_2(self):\n",
    "        hand = Hand.parse(\"JJJJJ 8765\")\n",
    "        self.assertEqual(hand.comparison_key_with_joker(), (HandType.FIVE_OF_A_KIND.value, 1, 1, 1, 1, 1))\n",
    "\n",
    "\n",
    "runner = unittest.TextTestRunner(verbosity=3)\n",
    "res = runner.run(unittest.TestLoader().loadTestsFromTestCase(HandTest)) \n",
    "assert len(res.failures) == 0"
   ]
  },
  {
   "cell_type": "code",
   "execution_count": 5,
   "id": "02dad120-fec7-41a4-88b7-73456b2e4c42",
   "metadata": {},
   "outputs": [
    {
     "name": "stdout",
     "output_type": "stream",
     "text": [
      "248569531\n",
      "CPU times: user 14.1 ms, sys: 2.27 ms, total: 16.3 ms\n",
      "Wall time: 13.8 ms\n"
     ]
    }
   ],
   "source": [
    "%%time\n",
    "sorted_hands = sorted((Hand.parse(line) for line in lines), key=lambda hand: hand.comparison_key())\n",
    "hand_amount_winnings = [hand.bid * (i+1) for i, hand in enumerate(sorted_hands)]\n",
    "\n",
    "first_answer = sum(hand_amount_winnings)\n",
    "print(first_answer)"
   ]
  },
  {
   "cell_type": "code",
   "execution_count": 6,
   "id": "4e47ade7-170c-4e46-b9f0-fb6ce8a4a4d7",
   "metadata": {},
   "outputs": [
    {
     "name": "stdout",
     "output_type": "stream",
     "text": [
      "aocd will not submit that answer again. At 2023-12-07 07:32:50.852843-05:00 you've previously submitted 248569531 and the server responded with:\n",
      "\u001b[32mThat's the right answer!  You are one gold star closer to restoring snow operations. [Continue to Part Two]\u001b[0m\n"
     ]
    }
   ],
   "source": [
    "submit_part_a(first_answer)"
   ]
  },
  {
   "cell_type": "code",
   "execution_count": 7,
   "id": "ca027ddf-052f-4aa2-b1c0-478d77ac7516",
   "metadata": {},
   "outputs": [
    {
     "name": "stdout",
     "output_type": "stream",
     "text": [
      "250382098\n",
      "CPU times: user 10.4 ms, sys: 0 ns, total: 10.4 ms\n",
      "Wall time: 9.94 ms\n"
     ]
    }
   ],
   "source": [
    "%%time\n",
    "sorted_hands_with_joker = sorted((Hand.parse(line) for line in lines), key=lambda hand: hand.comparison_key_with_joker())\n",
    "hand_amount_winnings = [hand.bid * (i+1) for i, hand in enumerate(sorted_hands_with_joker)]\n",
    "\n",
    "second_answer = sum(hand_amount_winnings)\n",
    "print(second_answer)"
   ]
  },
  {
   "cell_type": "code",
   "execution_count": 8,
   "id": "e1cd3c90-be94-42e9-9c81-7ec14a554a93",
   "metadata": {},
   "outputs": [
    {
     "name": "stdout",
     "output_type": "stream",
     "text": [
      "aocd will not submit that answer again. At 2023-12-07 11:37:47.528498-05:00 you've previously submitted 250382098 and the server responded with:\n",
      "\u001b[32mThat's the right answer!  You are one gold star closer to restoring snow operations.You have completed Day 7! You can [Shareon\n",
      "  Twitter\n",
      "Mastodon] this victory or [Return to Your Advent Calendar].\u001b[0m\n"
     ]
    }
   ],
   "source": [
    "submit_part_b(second_answer)"
   ]
  }
 ],
 "metadata": {
  "kernelspec": {
   "display_name": "Python 3 (ipykernel)",
   "language": "python",
   "name": "python3"
  },
  "language_info": {
   "codemirror_mode": {
    "name": "ipython",
    "version": 3
   },
   "file_extension": ".py",
   "mimetype": "text/x-python",
   "name": "python",
   "nbconvert_exporter": "python",
   "pygments_lexer": "ipython3",
   "version": "3.11.6"
  }
 },
 "nbformat": 4,
 "nbformat_minor": 5
}
